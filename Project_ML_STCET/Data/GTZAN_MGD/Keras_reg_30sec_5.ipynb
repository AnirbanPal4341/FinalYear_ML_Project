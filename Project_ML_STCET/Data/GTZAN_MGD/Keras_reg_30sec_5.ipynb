{
 "cells": [
  {
   "cell_type": "code",
   "execution_count": 1,
   "metadata": {},
   "outputs": [],
   "source": [
    "import pandas as pd\n",
    "import numpy as np"
   ]
  },
  {
   "cell_type": "code",
   "execution_count": 2,
   "metadata": {},
   "outputs": [],
   "source": [
    "data = pd.read_csv('features_30_sec.csv')"
   ]
  },
  {
   "cell_type": "code",
   "execution_count": 3,
   "metadata": {},
   "outputs": [
    {
     "data": {
      "text/html": [
       "<div>\n",
       "<style scoped>\n",
       "    .dataframe tbody tr th:only-of-type {\n",
       "        vertical-align: middle;\n",
       "    }\n",
       "\n",
       "    .dataframe tbody tr th {\n",
       "        vertical-align: top;\n",
       "    }\n",
       "\n",
       "    .dataframe thead th {\n",
       "        text-align: right;\n",
       "    }\n",
       "</style>\n",
       "<table border=\"1\" class=\"dataframe\">\n",
       "  <thead>\n",
       "    <tr style=\"text-align: right;\">\n",
       "      <th></th>\n",
       "      <th>filename</th>\n",
       "      <th>length</th>\n",
       "      <th>chroma_stft_mean</th>\n",
       "      <th>chroma_stft_var</th>\n",
       "      <th>rms_mean</th>\n",
       "      <th>rms_var</th>\n",
       "      <th>spectral_centroid_mean</th>\n",
       "      <th>spectral_centroid_var</th>\n",
       "      <th>spectral_bandwidth_mean</th>\n",
       "      <th>spectral_bandwidth_var</th>\n",
       "      <th>...</th>\n",
       "      <th>mfcc16_var</th>\n",
       "      <th>mfcc17_mean</th>\n",
       "      <th>mfcc17_var</th>\n",
       "      <th>mfcc18_mean</th>\n",
       "      <th>mfcc18_var</th>\n",
       "      <th>mfcc19_mean</th>\n",
       "      <th>mfcc19_var</th>\n",
       "      <th>mfcc20_mean</th>\n",
       "      <th>mfcc20_var</th>\n",
       "      <th>label</th>\n",
       "    </tr>\n",
       "  </thead>\n",
       "  <tbody>\n",
       "    <tr>\n",
       "      <th>0</th>\n",
       "      <td>blues.00000.wav</td>\n",
       "      <td>661794</td>\n",
       "      <td>0.350088</td>\n",
       "      <td>0.088757</td>\n",
       "      <td>0.130228</td>\n",
       "      <td>0.002827</td>\n",
       "      <td>1784.165850</td>\n",
       "      <td>129774.064525</td>\n",
       "      <td>2002.449060</td>\n",
       "      <td>85882.761315</td>\n",
       "      <td>...</td>\n",
       "      <td>52.420910</td>\n",
       "      <td>-1.690215</td>\n",
       "      <td>36.524071</td>\n",
       "      <td>-0.408979</td>\n",
       "      <td>41.597103</td>\n",
       "      <td>-2.303523</td>\n",
       "      <td>55.062923</td>\n",
       "      <td>1.221291</td>\n",
       "      <td>46.936035</td>\n",
       "      <td>blues</td>\n",
       "    </tr>\n",
       "    <tr>\n",
       "      <th>1</th>\n",
       "      <td>blues.00001.wav</td>\n",
       "      <td>661794</td>\n",
       "      <td>0.340914</td>\n",
       "      <td>0.094980</td>\n",
       "      <td>0.095948</td>\n",
       "      <td>0.002373</td>\n",
       "      <td>1530.176679</td>\n",
       "      <td>375850.073649</td>\n",
       "      <td>2039.036516</td>\n",
       "      <td>213843.755497</td>\n",
       "      <td>...</td>\n",
       "      <td>55.356403</td>\n",
       "      <td>-0.731125</td>\n",
       "      <td>60.314529</td>\n",
       "      <td>0.295073</td>\n",
       "      <td>48.120598</td>\n",
       "      <td>-0.283518</td>\n",
       "      <td>51.106190</td>\n",
       "      <td>0.531217</td>\n",
       "      <td>45.786282</td>\n",
       "      <td>blues</td>\n",
       "    </tr>\n",
       "    <tr>\n",
       "      <th>2</th>\n",
       "      <td>blues.00002.wav</td>\n",
       "      <td>661794</td>\n",
       "      <td>0.363637</td>\n",
       "      <td>0.085275</td>\n",
       "      <td>0.175570</td>\n",
       "      <td>0.002746</td>\n",
       "      <td>1552.811865</td>\n",
       "      <td>156467.643368</td>\n",
       "      <td>1747.702312</td>\n",
       "      <td>76254.192257</td>\n",
       "      <td>...</td>\n",
       "      <td>40.598766</td>\n",
       "      <td>-7.729093</td>\n",
       "      <td>47.639427</td>\n",
       "      <td>-1.816407</td>\n",
       "      <td>52.382141</td>\n",
       "      <td>-3.439720</td>\n",
       "      <td>46.639660</td>\n",
       "      <td>-2.231258</td>\n",
       "      <td>30.573025</td>\n",
       "      <td>blues</td>\n",
       "    </tr>\n",
       "    <tr>\n",
       "      <th>3</th>\n",
       "      <td>blues.00003.wav</td>\n",
       "      <td>661794</td>\n",
       "      <td>0.404785</td>\n",
       "      <td>0.093999</td>\n",
       "      <td>0.141093</td>\n",
       "      <td>0.006346</td>\n",
       "      <td>1070.106615</td>\n",
       "      <td>184355.942417</td>\n",
       "      <td>1596.412872</td>\n",
       "      <td>166441.494769</td>\n",
       "      <td>...</td>\n",
       "      <td>44.427753</td>\n",
       "      <td>-3.319597</td>\n",
       "      <td>50.206673</td>\n",
       "      <td>0.636965</td>\n",
       "      <td>37.319130</td>\n",
       "      <td>-0.619121</td>\n",
       "      <td>37.259739</td>\n",
       "      <td>-3.407448</td>\n",
       "      <td>31.949339</td>\n",
       "      <td>blues</td>\n",
       "    </tr>\n",
       "    <tr>\n",
       "      <th>4</th>\n",
       "      <td>blues.00004.wav</td>\n",
       "      <td>661794</td>\n",
       "      <td>0.308526</td>\n",
       "      <td>0.087841</td>\n",
       "      <td>0.091529</td>\n",
       "      <td>0.002303</td>\n",
       "      <td>1835.004266</td>\n",
       "      <td>343399.939274</td>\n",
       "      <td>1748.172116</td>\n",
       "      <td>88445.209036</td>\n",
       "      <td>...</td>\n",
       "      <td>86.099236</td>\n",
       "      <td>-5.454034</td>\n",
       "      <td>75.269707</td>\n",
       "      <td>-0.916874</td>\n",
       "      <td>53.613918</td>\n",
       "      <td>-4.404827</td>\n",
       "      <td>62.910812</td>\n",
       "      <td>-11.703234</td>\n",
       "      <td>55.195160</td>\n",
       "      <td>blues</td>\n",
       "    </tr>\n",
       "  </tbody>\n",
       "</table>\n",
       "<p>5 rows × 60 columns</p>\n",
       "</div>"
      ],
      "text/plain": [
       "          filename  length  chroma_stft_mean  chroma_stft_var  rms_mean  \\\n",
       "0  blues.00000.wav  661794          0.350088         0.088757  0.130228   \n",
       "1  blues.00001.wav  661794          0.340914         0.094980  0.095948   \n",
       "2  blues.00002.wav  661794          0.363637         0.085275  0.175570   \n",
       "3  blues.00003.wav  661794          0.404785         0.093999  0.141093   \n",
       "4  blues.00004.wav  661794          0.308526         0.087841  0.091529   \n",
       "\n",
       "    rms_var  spectral_centroid_mean  spectral_centroid_var  \\\n",
       "0  0.002827             1784.165850          129774.064525   \n",
       "1  0.002373             1530.176679          375850.073649   \n",
       "2  0.002746             1552.811865          156467.643368   \n",
       "3  0.006346             1070.106615          184355.942417   \n",
       "4  0.002303             1835.004266          343399.939274   \n",
       "\n",
       "   spectral_bandwidth_mean  spectral_bandwidth_var  ...  mfcc16_var  \\\n",
       "0              2002.449060            85882.761315  ...   52.420910   \n",
       "1              2039.036516           213843.755497  ...   55.356403   \n",
       "2              1747.702312            76254.192257  ...   40.598766   \n",
       "3              1596.412872           166441.494769  ...   44.427753   \n",
       "4              1748.172116            88445.209036  ...   86.099236   \n",
       "\n",
       "   mfcc17_mean  mfcc17_var  mfcc18_mean  mfcc18_var  mfcc19_mean  mfcc19_var  \\\n",
       "0    -1.690215   36.524071    -0.408979   41.597103    -2.303523   55.062923   \n",
       "1    -0.731125   60.314529     0.295073   48.120598    -0.283518   51.106190   \n",
       "2    -7.729093   47.639427    -1.816407   52.382141    -3.439720   46.639660   \n",
       "3    -3.319597   50.206673     0.636965   37.319130    -0.619121   37.259739   \n",
       "4    -5.454034   75.269707    -0.916874   53.613918    -4.404827   62.910812   \n",
       "\n",
       "   mfcc20_mean  mfcc20_var  label  \n",
       "0     1.221291   46.936035  blues  \n",
       "1     0.531217   45.786282  blues  \n",
       "2    -2.231258   30.573025  blues  \n",
       "3    -3.407448   31.949339  blues  \n",
       "4   -11.703234   55.195160  blues  \n",
       "\n",
       "[5 rows x 60 columns]"
      ]
     },
     "execution_count": 3,
     "metadata": {},
     "output_type": "execute_result"
    }
   ],
   "source": [
    "data.head()"
   ]
  },
  {
   "cell_type": "code",
   "execution_count": 4,
   "metadata": {},
   "outputs": [
    {
     "data": {
      "text/html": [
       "<div>\n",
       "<style scoped>\n",
       "    .dataframe tbody tr th:only-of-type {\n",
       "        vertical-align: middle;\n",
       "    }\n",
       "\n",
       "    .dataframe tbody tr th {\n",
       "        vertical-align: top;\n",
       "    }\n",
       "\n",
       "    .dataframe thead th {\n",
       "        text-align: right;\n",
       "    }\n",
       "</style>\n",
       "<table border=\"1\" class=\"dataframe\">\n",
       "  <thead>\n",
       "    <tr style=\"text-align: right;\">\n",
       "      <th></th>\n",
       "      <th>chroma_stft_mean</th>\n",
       "      <th>chroma_stft_var</th>\n",
       "      <th>rms_mean</th>\n",
       "      <th>rms_var</th>\n",
       "      <th>spectral_centroid_mean</th>\n",
       "      <th>spectral_centroid_var</th>\n",
       "      <th>spectral_bandwidth_mean</th>\n",
       "      <th>spectral_bandwidth_var</th>\n",
       "      <th>rolloff_mean</th>\n",
       "      <th>rolloff_var</th>\n",
       "      <th>...</th>\n",
       "      <th>mfcc9_mean</th>\n",
       "      <th>mfcc9_var</th>\n",
       "      <th>mfcc10_mean</th>\n",
       "      <th>mfcc10_var</th>\n",
       "      <th>mfcc11_mean</th>\n",
       "      <th>mfcc11_var</th>\n",
       "      <th>mfcc12_mean</th>\n",
       "      <th>mfcc12_var</th>\n",
       "      <th>mfcc13_mean</th>\n",
       "      <th>mfcc13_var</th>\n",
       "    </tr>\n",
       "  </thead>\n",
       "  <tbody>\n",
       "    <tr>\n",
       "      <th>0</th>\n",
       "      <td>0.350088</td>\n",
       "      <td>0.088757</td>\n",
       "      <td>0.130228</td>\n",
       "      <td>0.002827</td>\n",
       "      <td>1784.165850</td>\n",
       "      <td>129774.064525</td>\n",
       "      <td>2002.449060</td>\n",
       "      <td>85882.761315</td>\n",
       "      <td>3805.839606</td>\n",
       "      <td>9.015054e+05</td>\n",
       "      <td>...</td>\n",
       "      <td>-12.274110</td>\n",
       "      <td>82.204201</td>\n",
       "      <td>10.976572</td>\n",
       "      <td>63.386311</td>\n",
       "      <td>-8.326573</td>\n",
       "      <td>61.773094</td>\n",
       "      <td>8.803792</td>\n",
       "      <td>51.244125</td>\n",
       "      <td>-3.672300</td>\n",
       "      <td>41.217415</td>\n",
       "    </tr>\n",
       "    <tr>\n",
       "      <th>1</th>\n",
       "      <td>0.340914</td>\n",
       "      <td>0.094980</td>\n",
       "      <td>0.095948</td>\n",
       "      <td>0.002373</td>\n",
       "      <td>1530.176679</td>\n",
       "      <td>375850.073649</td>\n",
       "      <td>2039.036516</td>\n",
       "      <td>213843.755497</td>\n",
       "      <td>3550.522098</td>\n",
       "      <td>2.977893e+06</td>\n",
       "      <td>...</td>\n",
       "      <td>-10.099661</td>\n",
       "      <td>166.108521</td>\n",
       "      <td>11.900497</td>\n",
       "      <td>104.358612</td>\n",
       "      <td>-5.555639</td>\n",
       "      <td>105.173630</td>\n",
       "      <td>5.376327</td>\n",
       "      <td>96.197212</td>\n",
       "      <td>-2.231760</td>\n",
       "      <td>64.914291</td>\n",
       "    </tr>\n",
       "    <tr>\n",
       "      <th>2</th>\n",
       "      <td>0.363637</td>\n",
       "      <td>0.085275</td>\n",
       "      <td>0.175570</td>\n",
       "      <td>0.002746</td>\n",
       "      <td>1552.811865</td>\n",
       "      <td>156467.643368</td>\n",
       "      <td>1747.702312</td>\n",
       "      <td>76254.192257</td>\n",
       "      <td>3042.260232</td>\n",
       "      <td>7.840345e+05</td>\n",
       "      <td>...</td>\n",
       "      <td>-11.783643</td>\n",
       "      <td>65.447945</td>\n",
       "      <td>9.718760</td>\n",
       "      <td>67.908859</td>\n",
       "      <td>-13.133803</td>\n",
       "      <td>57.781425</td>\n",
       "      <td>5.791199</td>\n",
       "      <td>64.480209</td>\n",
       "      <td>-8.907628</td>\n",
       "      <td>60.385151</td>\n",
       "    </tr>\n",
       "    <tr>\n",
       "      <th>3</th>\n",
       "      <td>0.404785</td>\n",
       "      <td>0.093999</td>\n",
       "      <td>0.141093</td>\n",
       "      <td>0.006346</td>\n",
       "      <td>1070.106615</td>\n",
       "      <td>184355.942417</td>\n",
       "      <td>1596.412872</td>\n",
       "      <td>166441.494769</td>\n",
       "      <td>2184.745799</td>\n",
       "      <td>1.493194e+06</td>\n",
       "      <td>...</td>\n",
       "      <td>-0.759186</td>\n",
       "      <td>92.114090</td>\n",
       "      <td>8.137607</td>\n",
       "      <td>71.314079</td>\n",
       "      <td>-3.200653</td>\n",
       "      <td>110.236687</td>\n",
       "      <td>6.079319</td>\n",
       "      <td>48.251999</td>\n",
       "      <td>-2.480174</td>\n",
       "      <td>56.799400</td>\n",
       "    </tr>\n",
       "    <tr>\n",
       "      <th>4</th>\n",
       "      <td>0.308526</td>\n",
       "      <td>0.087841</td>\n",
       "      <td>0.091529</td>\n",
       "      <td>0.002303</td>\n",
       "      <td>1835.004266</td>\n",
       "      <td>343399.939274</td>\n",
       "      <td>1748.172116</td>\n",
       "      <td>88445.209036</td>\n",
       "      <td>3579.757627</td>\n",
       "      <td>1.572978e+06</td>\n",
       "      <td>...</td>\n",
       "      <td>-11.793437</td>\n",
       "      <td>130.073349</td>\n",
       "      <td>1.207256</td>\n",
       "      <td>99.675575</td>\n",
       "      <td>-13.088418</td>\n",
       "      <td>80.254066</td>\n",
       "      <td>-2.813867</td>\n",
       "      <td>86.430626</td>\n",
       "      <td>-6.933385</td>\n",
       "      <td>89.555443</td>\n",
       "    </tr>\n",
       "  </tbody>\n",
       "</table>\n",
       "<p>5 rows × 43 columns</p>\n",
       "</div>"
      ],
      "text/plain": [
       "   chroma_stft_mean  chroma_stft_var  rms_mean   rms_var  \\\n",
       "0          0.350088         0.088757  0.130228  0.002827   \n",
       "1          0.340914         0.094980  0.095948  0.002373   \n",
       "2          0.363637         0.085275  0.175570  0.002746   \n",
       "3          0.404785         0.093999  0.141093  0.006346   \n",
       "4          0.308526         0.087841  0.091529  0.002303   \n",
       "\n",
       "   spectral_centroid_mean  spectral_centroid_var  spectral_bandwidth_mean  \\\n",
       "0             1784.165850          129774.064525              2002.449060   \n",
       "1             1530.176679          375850.073649              2039.036516   \n",
       "2             1552.811865          156467.643368              1747.702312   \n",
       "3             1070.106615          184355.942417              1596.412872   \n",
       "4             1835.004266          343399.939274              1748.172116   \n",
       "\n",
       "   spectral_bandwidth_var  rolloff_mean   rolloff_var  ...  mfcc9_mean  \\\n",
       "0            85882.761315   3805.839606  9.015054e+05  ...  -12.274110   \n",
       "1           213843.755497   3550.522098  2.977893e+06  ...  -10.099661   \n",
       "2            76254.192257   3042.260232  7.840345e+05  ...  -11.783643   \n",
       "3           166441.494769   2184.745799  1.493194e+06  ...   -0.759186   \n",
       "4            88445.209036   3579.757627  1.572978e+06  ...  -11.793437   \n",
       "\n",
       "    mfcc9_var  mfcc10_mean  mfcc10_var  mfcc11_mean  mfcc11_var  mfcc12_mean  \\\n",
       "0   82.204201    10.976572   63.386311    -8.326573   61.773094     8.803792   \n",
       "1  166.108521    11.900497  104.358612    -5.555639  105.173630     5.376327   \n",
       "2   65.447945     9.718760   67.908859   -13.133803   57.781425     5.791199   \n",
       "3   92.114090     8.137607   71.314079    -3.200653  110.236687     6.079319   \n",
       "4  130.073349     1.207256   99.675575   -13.088418   80.254066    -2.813867   \n",
       "\n",
       "   mfcc12_var  mfcc13_mean  mfcc13_var  \n",
       "0   51.244125    -3.672300   41.217415  \n",
       "1   96.197212    -2.231760   64.914291  \n",
       "2   64.480209    -8.907628   60.385151  \n",
       "3   48.251999    -2.480174   56.799400  \n",
       "4   86.430626    -6.933385   89.555443  \n",
       "\n",
       "[5 rows x 43 columns]"
      ]
     },
     "execution_count": 4,
     "metadata": {},
     "output_type": "execute_result"
    }
   ],
   "source": [
    "dataset = data[data['label'].isin(['blues', 'classical', 'jazz', 'metal', 'pop'])].drop(['filename','length'],axis=1)\n",
    "dataset.iloc[:, :-15].head()"
   ]
  },
  {
   "cell_type": "code",
   "execution_count": 5,
   "metadata": {},
   "outputs": [],
   "source": [
    "from sklearn.model_selection import train_test_split\n",
    "from sklearn.preprocessing import LabelEncoder, StandardScaler ,MinMaxScaler\n",
    "from sklearn import preprocessing"
   ]
  },
  {
   "cell_type": "code",
   "execution_count": 6,
   "metadata": {},
   "outputs": [],
   "source": [
    "encode = LabelEncoder().fit(dataset.iloc[:,-1])\n",
    "y= LabelEncoder().fit_transform(dataset.iloc[:,-1])"
   ]
  },
  {
   "cell_type": "code",
   "execution_count": 7,
   "metadata": {},
   "outputs": [
    {
     "data": {
      "text/plain": [
       "(500, 43)"
      ]
     },
     "execution_count": 7,
     "metadata": {},
     "output_type": "execute_result"
    }
   ],
   "source": [
    "scaler1 = MinMaxScaler().fit(np.array(dataset.iloc[:, :-15], dtype = float))\n",
    "scaler2 = StandardScaler().fit(np.array(dataset.iloc[:, :-15], dtype = float))\n",
    "X = StandardScaler().fit_transform(np.array(dataset.iloc[:, :-15], dtype = float))\n",
    "X.shape"
   ]
  },
  {
   "cell_type": "code",
   "execution_count": 8,
   "metadata": {},
   "outputs": [
    {
     "name": "stdout",
     "output_type": "stream",
     "text": [
      "Train set: (350, 43) (350,)\n",
      "Test set: (150, 43) (150,)\n"
     ]
    }
   ],
   "source": [
    "X_train, X_test, y_train, y_test = train_test_split(X,y,test_size=0.30,random_state=42)\n",
    "print ('Train set:', X_train.shape,  y_train.shape)\n",
    "print ('Test set:', X_test.shape,  y_test.shape)"
   ]
  },
  {
   "cell_type": "code",
   "execution_count": 9,
   "metadata": {},
   "outputs": [],
   "source": [
    "import tensorflow.keras as keras"
   ]
  },
  {
   "cell_type": "code",
   "execution_count": 13,
   "metadata": {},
   "outputs": [
    {
     "name": "stderr",
     "output_type": "stream",
     "text": [
      "Using TensorFlow backend.\n"
     ]
    }
   ],
   "source": [
    "from keras.models import Sequential\n",
    "from keras.layers import Dense\n",
    "from keras.layers import Dropout, BatchNormalization"
   ]
  },
  {
   "cell_type": "code",
   "execution_count": 11,
   "metadata": {},
   "outputs": [],
   "source": [
    "# defining our regression model \n",
    "n_cols = dataset.iloc[:, :-15].shape[1]\n",
    "def regression_model_1():\n",
    "    # structure of our model\n",
    "    model = Sequential()\n",
    "    model.add(Dense(256, activation='relu', input_shape=(n_cols,)))\n",
    "    model.add(BatchNormalization())\n",
    "    model.add(Dropout(0.2))\n",
    "    model.add(Dense(128, activation='relu'))\n",
    "    model.add(BatchNormalization())\n",
    "    model.add(Dropout(0.2))\n",
    "    model.add(Dense(64, activation='relu',))\n",
    "    model.add(BatchNormalization())\n",
    "    model.add(Dropout(0.2))\n",
    "    model.add(Dense(32, activation='relu'))\n",
    "    model.add(BatchNormalization())\n",
    "    model.add(Dropout(0.2))\n",
    "    model.add(Dense(5,activation='softmax'))\n",
    "    \n",
    "    # compile model\n",
    "    model.compile(optimizer='adam', loss='sparse_categorical_crossentropy', metrics=['accuracy'])\n",
    "    return model"
   ]
  },
  {
   "cell_type": "code",
   "execution_count": 12,
   "metadata": {},
   "outputs": [],
   "source": [
    "from keras.callbacks import EarlyStopping, ReduceLROnPlateau\n",
    "earlystop = EarlyStopping(patience=10)\n",
    "learning_rate_reduction = ReduceLROnPlateau(monitor='val_accuracy', \n",
    "                                            patience=10, \n",
    "                                            verbose=1, \n",
    "                                            )\n",
    "Callbacks = [earlystop, learning_rate_reduction]"
   ]
  },
  {
   "cell_type": "code",
   "execution_count": 13,
   "metadata": {},
   "outputs": [
    {
     "name": "stdout",
     "output_type": "stream",
     "text": [
      "WARNING:tensorflow:From C:\\Users\\user1\\Anaconda3\\lib\\site-packages\\tensorflow\\python\\ops\\resource_variable_ops.py:435: colocate_with (from tensorflow.python.framework.ops) is deprecated and will be removed in a future version.\n",
      "Instructions for updating:\n",
      "Colocations handled automatically by placer.\n",
      "WARNING:tensorflow:From C:\\Users\\user1\\Anaconda3\\lib\\site-packages\\tensorflow\\python\\ops\\math_ops.py:3066: to_int32 (from tensorflow.python.ops.math_ops) is deprecated and will be removed in a future version.\n",
      "Instructions for updating:\n",
      "Use tf.cast instead.\n",
      "Train on 350 samples, validate on 150 samples\n",
      "Epoch 1/100\n",
      "350/350 [==============================] - 1s 4ms/step - loss: 2.0630 - accuracy: 0.2143 - val_loss: 1.5512 - val_accuracy: 0.4067\n",
      "Epoch 2/100\n",
      "350/350 [==============================] - 0s 94us/step - loss: 1.4828 - accuracy: 0.4457 - val_loss: 1.4632 - val_accuracy: 0.5133\n",
      "Epoch 3/100\n",
      "350/350 [==============================] - 0s 94us/step - loss: 1.1352 - accuracy: 0.5829 - val_loss: 1.3778 - val_accuracy: 0.5733\n",
      "Epoch 4/100\n",
      "350/350 [==============================] - 0s 88us/step - loss: 1.0223 - accuracy: 0.6000 - val_loss: 1.3066 - val_accuracy: 0.6467\n",
      "Epoch 5/100\n",
      "350/350 [==============================] - 0s 94us/step - loss: 0.8530 - accuracy: 0.6914 - val_loss: 1.2449 - val_accuracy: 0.6600\n",
      "Epoch 6/100\n",
      "350/350 [==============================] - 0s 91us/step - loss: 0.7757 - accuracy: 0.7343 - val_loss: 1.1917 - val_accuracy: 0.7133\n",
      "Epoch 7/100\n",
      "350/350 [==============================] - 0s 97us/step - loss: 0.7184 - accuracy: 0.7600 - val_loss: 1.1436 - val_accuracy: 0.7400\n",
      "Epoch 8/100\n",
      "350/350 [==============================] - 0s 100us/step - loss: 0.6350 - accuracy: 0.7943 - val_loss: 1.1005 - val_accuracy: 0.7600\n",
      "Epoch 9/100\n",
      "350/350 [==============================] - 0s 94us/step - loss: 0.6211 - accuracy: 0.7829 - val_loss: 1.0601 - val_accuracy: 0.7867\n",
      "Epoch 10/100\n",
      "350/350 [==============================] - 0s 97us/step - loss: 0.5631 - accuracy: 0.8000 - val_loss: 1.0227 - val_accuracy: 0.7800\n",
      "Epoch 11/100\n",
      "350/350 [==============================] - 0s 91us/step - loss: 0.5404 - accuracy: 0.8200 - val_loss: 0.9885 - val_accuracy: 0.7867\n",
      "Epoch 12/100\n",
      "350/350 [==============================] - 0s 97us/step - loss: 0.4609 - accuracy: 0.8571 - val_loss: 0.9570 - val_accuracy: 0.7867\n",
      "Epoch 13/100\n",
      "350/350 [==============================] - 0s 94us/step - loss: 0.4287 - accuracy: 0.8743 - val_loss: 0.9252 - val_accuracy: 0.7933\n",
      "Epoch 14/100\n",
      "350/350 [==============================] - 0s 103us/step - loss: 0.4282 - accuracy: 0.8657 - val_loss: 0.8964 - val_accuracy: 0.8067\n",
      "Epoch 15/100\n",
      "350/350 [==============================] - 0s 91us/step - loss: 0.3613 - accuracy: 0.8943 - val_loss: 0.8697 - val_accuracy: 0.8133\n",
      "Epoch 16/100\n",
      "350/350 [==============================] - 0s 91us/step - loss: 0.3892 - accuracy: 0.8886 - val_loss: 0.8434 - val_accuracy: 0.8133\n",
      "Epoch 17/100\n",
      "350/350 [==============================] - 0s 97us/step - loss: 0.3527 - accuracy: 0.8800 - val_loss: 0.8171 - val_accuracy: 0.8267\n",
      "Epoch 18/100\n",
      "350/350 [==============================] - 0s 85us/step - loss: 0.3385 - accuracy: 0.9086 - val_loss: 0.7902 - val_accuracy: 0.8333\n",
      "Epoch 19/100\n",
      "350/350 [==============================] - 0s 100us/step - loss: 0.3053 - accuracy: 0.9143 - val_loss: 0.7670 - val_accuracy: 0.8333\n",
      "Epoch 20/100\n",
      "350/350 [==============================] - 0s 108us/step - loss: 0.2928 - accuracy: 0.9143 - val_loss: 0.7451 - val_accuracy: 0.8400\n",
      "Epoch 21/100\n",
      "350/350 [==============================] - 0s 103us/step - loss: 0.2888 - accuracy: 0.9200 - val_loss: 0.7217 - val_accuracy: 0.8400\n",
      "Epoch 22/100\n",
      "350/350 [==============================] - 0s 111us/step - loss: 0.2947 - accuracy: 0.9057 - val_loss: 0.7008 - val_accuracy: 0.8400\n",
      "Epoch 23/100\n",
      "350/350 [==============================] - 0s 105us/step - loss: 0.2740 - accuracy: 0.9257 - val_loss: 0.6795 - val_accuracy: 0.8400\n",
      "Epoch 24/100\n",
      "350/350 [==============================] - 0s 100us/step - loss: 0.2711 - accuracy: 0.9029 - val_loss: 0.6588 - val_accuracy: 0.8400\n",
      "Epoch 25/100\n",
      "350/350 [==============================] - 0s 105us/step - loss: 0.2654 - accuracy: 0.9257 - val_loss: 0.6407 - val_accuracy: 0.8467\n",
      "Epoch 26/100\n",
      "350/350 [==============================] - 0s 97us/step - loss: 0.2448 - accuracy: 0.9286 - val_loss: 0.6200 - val_accuracy: 0.8533\n",
      "Epoch 27/100\n",
      "350/350 [==============================] - 0s 105us/step - loss: 0.2159 - accuracy: 0.9429 - val_loss: 0.5993 - val_accuracy: 0.8467\n",
      "Epoch 28/100\n",
      "350/350 [==============================] - 0s 100us/step - loss: 0.2314 - accuracy: 0.9343 - val_loss: 0.5798 - val_accuracy: 0.8533\n",
      "Epoch 29/100\n",
      "350/350 [==============================] - 0s 111us/step - loss: 0.2088 - accuracy: 0.9400 - val_loss: 0.5601 - val_accuracy: 0.8600\n",
      "Epoch 30/100\n",
      "350/350 [==============================] - 0s 105us/step - loss: 0.1829 - accuracy: 0.9629 - val_loss: 0.5412 - val_accuracy: 0.8733\n",
      "Epoch 31/100\n",
      "350/350 [==============================] - 0s 105us/step - loss: 0.1772 - accuracy: 0.9543 - val_loss: 0.5228 - val_accuracy: 0.8800\n",
      "Epoch 32/100\n",
      "350/350 [==============================] - 0s 97us/step - loss: 0.1878 - accuracy: 0.9514 - val_loss: 0.5060 - val_accuracy: 0.8867\n",
      "Epoch 33/100\n",
      "350/350 [==============================] - 0s 120us/step - loss: 0.1869 - accuracy: 0.9486 - val_loss: 0.4894 - val_accuracy: 0.8933\n",
      "Epoch 34/100\n",
      "350/350 [==============================] - 0s 97us/step - loss: 0.1669 - accuracy: 0.9600 - val_loss: 0.4745 - val_accuracy: 0.8933\n",
      "Epoch 35/100\n",
      "350/350 [==============================] - 0s 83us/step - loss: 0.1510 - accuracy: 0.9714 - val_loss: 0.4629 - val_accuracy: 0.8867\n",
      "Epoch 36/100\n",
      "350/350 [==============================] - 0s 83us/step - loss: 0.1919 - accuracy: 0.9486 - val_loss: 0.4529 - val_accuracy: 0.8867\n",
      "Epoch 37/100\n",
      "350/350 [==============================] - 0s 83us/step - loss: 0.1500 - accuracy: 0.9657 - val_loss: 0.4442 - val_accuracy: 0.8867\n",
      "Epoch 38/100\n",
      "350/350 [==============================] - 0s 91us/step - loss: 0.1499 - accuracy: 0.9629 - val_loss: 0.4343 - val_accuracy: 0.8800\n",
      "Epoch 39/100\n",
      "350/350 [==============================] - 0s 91us/step - loss: 0.1365 - accuracy: 0.9657 - val_loss: 0.4257 - val_accuracy: 0.8800\n",
      "Epoch 40/100\n",
      "350/350 [==============================] - 0s 83us/step - loss: 0.1491 - accuracy: 0.9686 - val_loss: 0.4170 - val_accuracy: 0.8800\n",
      "Epoch 41/100\n",
      "350/350 [==============================] - 0s 85us/step - loss: 0.1329 - accuracy: 0.9629 - val_loss: 0.4086 - val_accuracy: 0.8933\n",
      "Epoch 42/100\n",
      "350/350 [==============================] - 0s 88us/step - loss: 0.1228 - accuracy: 0.9686 - val_loss: 0.4016 - val_accuracy: 0.8867\n",
      "Epoch 43/100\n",
      "350/350 [==============================] - 0s 85us/step - loss: 0.1254 - accuracy: 0.9714 - val_loss: 0.3951 - val_accuracy: 0.8800\n",
      "\n",
      "Epoch 00043: ReduceLROnPlateau reducing learning rate to 0.00010000000474974513.\n",
      "Epoch 44/100\n",
      "350/350 [==============================] - 0s 113us/step - loss: 0.1174 - accuracy: 0.9800 - val_loss: 0.3911 - val_accuracy: 0.8800\n",
      "Epoch 45/100\n",
      "350/350 [==============================] - 0s 94us/step - loss: 0.1224 - accuracy: 0.9771 - val_loss: 0.3879 - val_accuracy: 0.8867\n",
      "Epoch 46/100\n",
      "350/350 [==============================] - 0s 97us/step - loss: 0.1156 - accuracy: 0.9657 - val_loss: 0.3841 - val_accuracy: 0.8867\n",
      "Epoch 47/100\n",
      "350/350 [==============================] - 0s 83us/step - loss: 0.1024 - accuracy: 0.9771 - val_loss: 0.3802 - val_accuracy: 0.8867\n",
      "Epoch 48/100\n",
      "350/350 [==============================] - 0s 94us/step - loss: 0.1096 - accuracy: 0.9800 - val_loss: 0.3760 - val_accuracy: 0.8867\n",
      "Epoch 49/100\n",
      "350/350 [==============================] - 0s 85us/step - loss: 0.1202 - accuracy: 0.9714 - val_loss: 0.3720 - val_accuracy: 0.8867\n",
      "Epoch 50/100\n",
      "350/350 [==============================] - 0s 85us/step - loss: 0.1323 - accuracy: 0.9714 - val_loss: 0.3684 - val_accuracy: 0.8800\n",
      "Epoch 51/100\n",
      "350/350 [==============================] - 0s 91us/step - loss: 0.1218 - accuracy: 0.9743 - val_loss: 0.3655 - val_accuracy: 0.8800\n",
      "Epoch 52/100\n",
      "350/350 [==============================] - 0s 94us/step - loss: 0.1151 - accuracy: 0.9743 - val_loss: 0.3617 - val_accuracy: 0.8800\n"
     ]
    },
    {
     "name": "stdout",
     "output_type": "stream",
     "text": [
      "Epoch 53/100\n",
      "350/350 [==============================] - 0s 88us/step - loss: 0.1260 - accuracy: 0.9686 - val_loss: 0.3589 - val_accuracy: 0.8800\n",
      "\n",
      "Epoch 00053: ReduceLROnPlateau reducing learning rate to 1.0000000474974514e-05.\n",
      "Epoch 54/100\n",
      "350/350 [==============================] - 0s 83us/step - loss: 0.1150 - accuracy: 0.9771 - val_loss: 0.3568 - val_accuracy: 0.8800\n",
      "Epoch 55/100\n",
      "350/350 [==============================] - 0s 80us/step - loss: 0.1163 - accuracy: 0.9886 - val_loss: 0.3546 - val_accuracy: 0.8800\n",
      "Epoch 56/100\n",
      "350/350 [==============================] - 0s 77us/step - loss: 0.1148 - accuracy: 0.9771 - val_loss: 0.3527 - val_accuracy: 0.8800\n",
      "Epoch 57/100\n",
      "350/350 [==============================] - 0s 85us/step - loss: 0.1100 - accuracy: 0.9771 - val_loss: 0.3498 - val_accuracy: 0.8800\n",
      "Epoch 58/100\n",
      "350/350 [==============================] - 0s 80us/step - loss: 0.1262 - accuracy: 0.9714 - val_loss: 0.3486 - val_accuracy: 0.8800\n",
      "Epoch 59/100\n",
      "350/350 [==============================] - 0s 83us/step - loss: 0.1158 - accuracy: 0.9771 - val_loss: 0.3461 - val_accuracy: 0.8800\n",
      "Epoch 60/100\n",
      "350/350 [==============================] - 0s 83us/step - loss: 0.1259 - accuracy: 0.9743 - val_loss: 0.3443 - val_accuracy: 0.8800\n",
      "Epoch 61/100\n",
      "350/350 [==============================] - 0s 83us/step - loss: 0.1271 - accuracy: 0.9686 - val_loss: 0.3428 - val_accuracy: 0.8800\n",
      "Epoch 62/100\n",
      "350/350 [==============================] - 0s 83us/step - loss: 0.1096 - accuracy: 0.9743 - val_loss: 0.3408 - val_accuracy: 0.8800\n",
      "Epoch 63/100\n",
      "350/350 [==============================] - 0s 77us/step - loss: 0.1299 - accuracy: 0.9657 - val_loss: 0.3389 - val_accuracy: 0.8733\n",
      "\n",
      "Epoch 00063: ReduceLROnPlateau reducing learning rate to 1.0000000656873453e-06.\n",
      "Epoch 64/100\n",
      "350/350 [==============================] - 0s 80us/step - loss: 0.1147 - accuracy: 0.9771 - val_loss: 0.3372 - val_accuracy: 0.8733\n",
      "Epoch 65/100\n",
      "350/350 [==============================] - 0s 86us/step - loss: 0.1034 - accuracy: 0.9771 - val_loss: 0.3354 - val_accuracy: 0.8733\n",
      "Epoch 66/100\n",
      "350/350 [==============================] - 0s 83us/step - loss: 0.1054 - accuracy: 0.9800 - val_loss: 0.3335 - val_accuracy: 0.8733\n",
      "Epoch 67/100\n",
      "350/350 [==============================] - 0s 83us/step - loss: 0.1298 - accuracy: 0.9629 - val_loss: 0.3317 - val_accuracy: 0.8733\n",
      "Epoch 68/100\n",
      "350/350 [==============================] - 0s 85us/step - loss: 0.1172 - accuracy: 0.9829 - val_loss: 0.3302 - val_accuracy: 0.8733\n",
      "Epoch 69/100\n",
      "350/350 [==============================] - 0s 80us/step - loss: 0.1056 - accuracy: 0.9829 - val_loss: 0.3287 - val_accuracy: 0.8733\n",
      "Epoch 70/100\n",
      "350/350 [==============================] - 0s 94us/step - loss: 0.0948 - accuracy: 0.9943 - val_loss: 0.3273 - val_accuracy: 0.8733\n",
      "Epoch 71/100\n",
      "350/350 [==============================] - 0s 94us/step - loss: 0.1095 - accuracy: 0.9857 - val_loss: 0.3264 - val_accuracy: 0.8733\n",
      "Epoch 72/100\n",
      "350/350 [==============================] - 0s 88us/step - loss: 0.1067 - accuracy: 0.9771 - val_loss: 0.3251 - val_accuracy: 0.8733\n",
      "Epoch 73/100\n",
      "350/350 [==============================] - 0s 114us/step - loss: 0.1235 - accuracy: 0.9829 - val_loss: 0.3234 - val_accuracy: 0.8733\n",
      "\n",
      "Epoch 00073: ReduceLROnPlateau reducing learning rate to 1.0000001111620805e-07.\n",
      "Epoch 74/100\n",
      "350/350 [==============================] - 0s 88us/step - loss: 0.1411 - accuracy: 0.9571 - val_loss: 0.3219 - val_accuracy: 0.8733\n",
      "Epoch 75/100\n",
      "350/350 [==============================] - 0s 97us/step - loss: 0.1132 - accuracy: 0.9800 - val_loss: 0.3207 - val_accuracy: 0.8733\n",
      "Epoch 76/100\n",
      "350/350 [==============================] - 0s 100us/step - loss: 0.1345 - accuracy: 0.9629 - val_loss: 0.3195 - val_accuracy: 0.8733\n",
      "Epoch 77/100\n",
      "350/350 [==============================] - 0s 94us/step - loss: 0.1335 - accuracy: 0.9657 - val_loss: 0.3182 - val_accuracy: 0.8733\n",
      "Epoch 78/100\n",
      "350/350 [==============================] - 0s 85us/step - loss: 0.1292 - accuracy: 0.9800 - val_loss: 0.3177 - val_accuracy: 0.8733\n",
      "Epoch 79/100\n",
      "350/350 [==============================] - 0s 100us/step - loss: 0.1226 - accuracy: 0.9686 - val_loss: 0.3165 - val_accuracy: 0.8733\n",
      "Epoch 80/100\n",
      "350/350 [==============================] - 0s 91us/step - loss: 0.1163 - accuracy: 0.9714 - val_loss: 0.3158 - val_accuracy: 0.8733\n",
      "Epoch 81/100\n",
      "350/350 [==============================] - 0s 94us/step - loss: 0.1282 - accuracy: 0.9714 - val_loss: 0.3152 - val_accuracy: 0.8733\n",
      "Epoch 82/100\n",
      "350/350 [==============================] - 0s 97us/step - loss: 0.1268 - accuracy: 0.9714 - val_loss: 0.3144 - val_accuracy: 0.8800\n",
      "Epoch 83/100\n",
      "350/350 [==============================] - 0s 134us/step - loss: 0.1265 - accuracy: 0.9686 - val_loss: 0.3140 - val_accuracy: 0.8800\n",
      "\n",
      "Epoch 00083: ReduceLROnPlateau reducing learning rate to 1.000000082740371e-08.\n",
      "Epoch 84/100\n",
      "350/350 [==============================] - 0s 83us/step - loss: 0.1538 - accuracy: 0.9600 - val_loss: 0.3133 - val_accuracy: 0.8800\n",
      "Epoch 85/100\n",
      "350/350 [==============================] - 0s 83us/step - loss: 0.1187 - accuracy: 0.9800 - val_loss: 0.3125 - val_accuracy: 0.8800\n",
      "Epoch 86/100\n",
      "350/350 [==============================] - 0s 111us/step - loss: 0.1151 - accuracy: 0.9714 - val_loss: 0.3114 - val_accuracy: 0.8800\n",
      "Epoch 87/100\n",
      "350/350 [==============================] - 0s 94us/step - loss: 0.1123 - accuracy: 0.9771 - val_loss: 0.3102 - val_accuracy: 0.8800\n",
      "Epoch 88/100\n",
      "350/350 [==============================] - 0s 85us/step - loss: 0.1156 - accuracy: 0.9771 - val_loss: 0.3092 - val_accuracy: 0.8800\n",
      "Epoch 89/100\n",
      "350/350 [==============================] - 0s 94us/step - loss: 0.1216 - accuracy: 0.9714 - val_loss: 0.3087 - val_accuracy: 0.8800\n",
      "Epoch 90/100\n",
      "350/350 [==============================] - 0s 88us/step - loss: 0.1154 - accuracy: 0.9829 - val_loss: 0.3078 - val_accuracy: 0.8800\n",
      "Epoch 91/100\n",
      "350/350 [==============================] - 0s 85us/step - loss: 0.1103 - accuracy: 0.9714 - val_loss: 0.3071 - val_accuracy: 0.8800\n",
      "Epoch 92/100\n",
      "350/350 [==============================] - 0s 91us/step - loss: 0.1289 - accuracy: 0.9743 - val_loss: 0.3064 - val_accuracy: 0.8800\n",
      "Epoch 93/100\n",
      "350/350 [==============================] - 0s 94us/step - loss: 0.1278 - accuracy: 0.9771 - val_loss: 0.3059 - val_accuracy: 0.8800\n",
      "\n",
      "Epoch 00093: ReduceLROnPlateau reducing learning rate to 1.000000082740371e-09.\n",
      "Epoch 94/100\n",
      "350/350 [==============================] - 0s 100us/step - loss: 0.1140 - accuracy: 0.9829 - val_loss: 0.3053 - val_accuracy: 0.8800\n",
      "Epoch 95/100\n",
      "350/350 [==============================] - 0s 88us/step - loss: 0.1230 - accuracy: 0.9800 - val_loss: 0.3046 - val_accuracy: 0.8800\n",
      "Epoch 96/100\n",
      "350/350 [==============================] - 0s 91us/step - loss: 0.1094 - accuracy: 0.9829 - val_loss: 0.3040 - val_accuracy: 0.8800\n",
      "Epoch 97/100\n",
      "350/350 [==============================] - 0s 97us/step - loss: 0.1196 - accuracy: 0.9743 - val_loss: 0.3035 - val_accuracy: 0.8800\n",
      "Epoch 98/100\n",
      "350/350 [==============================] - 0s 91us/step - loss: 0.1312 - accuracy: 0.9629 - val_loss: 0.3028 - val_accuracy: 0.8800\n",
      "Epoch 99/100\n",
      "350/350 [==============================] - 0s 94us/step - loss: 0.1293 - accuracy: 0.9800 - val_loss: 0.3022 - val_accuracy: 0.8800\n",
      "Epoch 100/100\n",
      "350/350 [==============================] - 0s 91us/step - loss: 0.1270 - accuracy: 0.9714 - val_loss: 0.3014 - val_accuracy: 0.8800\n"
     ]
    },
    {
     "data": {
      "text/plain": [
       "<keras.callbacks.callbacks.History at 0x274464ef400>"
      ]
     },
     "execution_count": 13,
     "metadata": {},
     "output_type": "execute_result"
    }
   ],
   "source": [
    "#build the model\n",
    "# model_1 = regression_model_1()\n",
    "\n",
    "#fit the model\n",
    "# model_1.fit(X_train,y_train, callbacks=Callbacks , validation_data=(X_test,y_test) ,epochs=100,batch_size=150)"
   ]
  },
  {
   "cell_type": "code",
   "execution_count": 14,
   "metadata": {},
   "outputs": [],
   "source": [
    "# model_1.save('Keras_reg_30sec_5.h5')"
   ]
  },
  {
   "cell_type": "code",
   "execution_count": 19,
   "metadata": {},
   "outputs": [
    {
     "name": "stdout",
     "output_type": "stream",
     "text": [
      "accuracy: 88.00%\n"
     ]
    }
   ],
   "source": [
    "from keras.models import load_model\n",
    "model = load_model('Keras_reg_30sec_5.h5')\n",
    "predictions = model.predict_classes(X_test)\n",
    "score = model.evaluate(X_test,y_test, verbose=0)\n",
    "print(\"%s: %.2f%%\" % (model.metrics_names[1], score[1]*100))"
   ]
  },
  {
   "cell_type": "code",
   "execution_count": 20,
   "metadata": {},
   "outputs": [
    {
     "name": "stdout",
     "output_type": "stream",
     "text": [
      "[3 0 3 1 1 3 3 1 0 4 0 1 4 0 3 3 4 0 3 4 4 4 2 3 0 4 4 2 1 3 4 3 4 1 0 3 4\n",
      " 0 2 0 3 0 4 1 0 0 0 0 4 0 0 1 1 4 1 0 1 0 2 0 4 2 3 4 0 0 4 0 2 3 3 3 2 2\n",
      " 3 3 2 0 4 4 1 0 4 1 3 0 1 4 3 2 3 4 3 3 4 3 0 0 4 0 2 4 0 3 3 0 3 2 3 1 1\n",
      " 4 3 0 4 2 2 2 1 0 2 1 3 1 2 2 4 2 1 3 0 1 4 2 1 0 1 0 0 2 0 2 4 0 2 2 0 2\n",
      " 2 4]\n",
      "[3 0 3 1 1 3 3 1 0 4 0 1 2 0 3 0 4 0 3 4 4 4 2 3 0 4 4 2 1 3 4 3 4 1 0 3 4\n",
      " 0 1 0 3 2 4 1 0 0 0 0 4 0 0 1 1 4 1 0 2 2 2 0 4 2 3 4 3 0 4 0 2 0 3 3 2 2\n",
      " 3 3 2 0 4 4 2 0 4 1 3 0 2 3 3 2 3 4 3 3 4 3 0 0 4 0 0 4 0 0 3 0 3 2 3 1 1\n",
      " 4 3 0 4 2 2 2 1 0 2 1 3 1 2 2 4 1 1 3 0 1 4 2 1 0 1 0 0 2 0 0 2 0 2 1 2 2\n",
      " 2 4]\n"
     ]
    }
   ],
   "source": [
    "print(y_test)\n",
    "print(predictions)"
   ]
  },
  {
   "cell_type": "code",
   "execution_count": 21,
   "metadata": {},
   "outputs": [],
   "source": [
    "from sklearn.metrics import confusion_matrix"
   ]
  },
  {
   "cell_type": "code",
   "execution_count": 22,
   "metadata": {},
   "outputs": [],
   "source": [
    "cf_matrix = confusion_matrix(y_test,predictions)"
   ]
  },
  {
   "cell_type": "code",
   "execution_count": 23,
   "metadata": {},
   "outputs": [
    {
     "name": "stdout",
     "output_type": "stream",
     "text": [
      "[[35  0  3  1  0]\n",
      " [ 0 20  3  0  0]\n",
      " [ 2  3 21  0  0]\n",
      " [ 3  0  0 28  0]\n",
      " [ 0  0  2  1 28]]\n"
     ]
    }
   ],
   "source": [
    "print(cf_matrix)"
   ]
  },
  {
   "cell_type": "code",
   "execution_count": 24,
   "metadata": {},
   "outputs": [
    {
     "data": {
      "text/plain": [
       "<matplotlib.axes._subplots.AxesSubplot at 0x25fffa837f0>"
      ]
     },
     "execution_count": 24,
     "metadata": {},
     "output_type": "execute_result"
    },
    {
     "data": {
      "image/png": "[encoded data removed]",
      "text/plain": [
       "<Figure size 432x288 with 2 Axes>"
      ]
     },
     "metadata": {
      "needs_background": "light"
     },
     "output_type": "display_data"
    }
   ],
   "source": [
    "import seaborn as sns\n",
    "%matplotlib inline\n",
    "classes=['blues', 'classical', 'jazz', 'metal', 'pop']\n",
    "sns.heatmap(cf_matrix, annot=True , cmap='Blues',xticklabels=classes,yticklabels=classes)"
   ]
  },
  {
   "cell_type": "code",
   "execution_count": 25,
   "metadata": {},
   "outputs": [],
   "source": [
    "data_test = pd.read_csv('test_30_sec.csv')\n",
    "dataset_test= data_test.drop(['filename','length'],axis=1)\n",
    "X__test=scaler2.transform(np.array(dataset_test.iloc[:, :-15], dtype = float))\n",
    "actual = encode.transform(dataset_test.iloc[:,-1])\n",
    "pred = model.predict_classes(X__test)"
   ]
  },
  {
   "cell_type": "code",
   "execution_count": 26,
   "metadata": {},
   "outputs": [
    {
     "name": "stdout",
     "output_type": "stream",
     "text": [
      "[3 2 4 1 1 0 3 4 4 1 4 4 4 0 4 0 0 2 2 1 3 0 2 3 2 2 4 4 1]\n",
      "[3 3 4 1 1 0 3 4 4 1 4 2 4 4 4 0 0 2 2 1 3 2 2 4 2 2 2 4 2]\n"
     ]
    }
   ],
   "source": [
    "# blues[0],classical[1],jazz[2],metal[3],pop[4]\n",
    "print(actual)\n",
    "print(pred)"
   ]
  },
  {
   "cell_type": "code",
   "execution_count": 27,
   "metadata": {},
   "outputs": [
    {
     "data": {
      "text/plain": [
       "<matplotlib.axes._subplots.AxesSubplot at 0x25f85773668>"
      ]
     },
     "execution_count": 27,
     "metadata": {},
     "output_type": "execute_result"
    },
    {
     "data": {
      "image/png": "[encoded data removed]",
      "text/plain": [
       "<Figure size 432x288 with 2 Axes>"
      ]
     },
     "metadata": {
      "needs_background": "light"
     },
     "output_type": "display_data"
    }
   ],
   "source": [
    "cf_matrix_test = confusion_matrix(actual,pred)\n",
    "classes=['blues', 'classical','jazz', 'metal', 'pop']\n",
    "sns.heatmap(cf_matrix_test, annot=True , cmap='Blues',xticklabels=classes,yticklabels=classes)"
   ]
  },
  {
   "cell_type": "code",
   "execution_count": null,
   "metadata": {},
   "outputs": [],
   "source": []
  }
 ],
 "metadata": {
  "kernelspec": {
   "display_name": "Python 3",
   "language": "python",
   "name": "python3"
  },
  "language_info": {
   "codemirror_mode": {
    "name": "ipython",
    "version": 3
   },
   "file_extension": ".py",
   "mimetype": "text/x-python",
   "name": "python",
   "nbconvert_exporter": "python",
   "pygments_lexer": "ipython3",
   "version": "3.7.3"
  }
 },
 "nbformat": 4,
 "nbformat_minor": 2
}
