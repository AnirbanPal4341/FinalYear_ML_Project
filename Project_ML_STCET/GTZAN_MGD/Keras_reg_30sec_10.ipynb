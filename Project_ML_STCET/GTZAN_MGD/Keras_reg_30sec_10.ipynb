{
 "cells": [
  {
   "cell_type": "code",
   "execution_count": 1,
   "metadata": {},
   "outputs": [],
   "source": [
    "import pandas as pd\n",
    "import numpy as np"
   ]
  },
  {
   "cell_type": "code",
   "execution_count": 3,
   "metadata": {},
   "outputs": [],
   "source": [
    "data = pd.read_csv('features_30_sec.csv')"
   ]
  },
  {
   "cell_type": "code",
   "execution_count": 4,
   "metadata": {},
   "outputs": [
    {
     "data": {
      "text/html": [
       "<div>\n",
       "<style scoped>\n",
       "    .dataframe tbody tr th:only-of-type {\n",
       "        vertical-align: middle;\n",
       "    }\n",
       "\n",
       "    .dataframe tbody tr th {\n",
       "        vertical-align: top;\n",
       "    }\n",
       "\n",
       "    .dataframe thead th {\n",
       "        text-align: right;\n",
       "    }\n",
       "</style>\n",
       "<table border=\"1\" class=\"dataframe\">\n",
       "  <thead>\n",
       "    <tr style=\"text-align: right;\">\n",
       "      <th></th>\n",
       "      <th>filename</th>\n",
       "      <th>length</th>\n",
       "      <th>chroma_stft_mean</th>\n",
       "      <th>chroma_stft_var</th>\n",
       "      <th>rms_mean</th>\n",
       "      <th>rms_var</th>\n",
       "      <th>spectral_centroid_mean</th>\n",
       "      <th>spectral_centroid_var</th>\n",
       "      <th>spectral_bandwidth_mean</th>\n",
       "      <th>spectral_bandwidth_var</th>\n",
       "      <th>...</th>\n",
       "      <th>mfcc16_var</th>\n",
       "      <th>mfcc17_mean</th>\n",
       "      <th>mfcc17_var</th>\n",
       "      <th>mfcc18_mean</th>\n",
       "      <th>mfcc18_var</th>\n",
       "      <th>mfcc19_mean</th>\n",
       "      <th>mfcc19_var</th>\n",
       "      <th>mfcc20_mean</th>\n",
       "      <th>mfcc20_var</th>\n",
       "      <th>label</th>\n",
       "    </tr>\n",
       "  </thead>\n",
       "  <tbody>\n",
       "    <tr>\n",
       "      <th>0</th>\n",
       "      <td>blues.00000.wav</td>\n",
       "      <td>661794</td>\n",
       "      <td>0.350088</td>\n",
       "      <td>0.088757</td>\n",
       "      <td>0.130228</td>\n",
       "      <td>0.002827</td>\n",
       "      <td>1784.165850</td>\n",
       "      <td>129774.064525</td>\n",
       "      <td>2002.449060</td>\n",
       "      <td>85882.761315</td>\n",
       "      <td>...</td>\n",
       "      <td>52.420910</td>\n",
       "      <td>-1.690215</td>\n",
       "      <td>36.524071</td>\n",
       "      <td>-0.408979</td>\n",
       "      <td>41.597103</td>\n",
       "      <td>-2.303523</td>\n",
       "      <td>55.062923</td>\n",
       "      <td>1.221291</td>\n",
       "      <td>46.936035</td>\n",
       "      <td>blues</td>\n",
       "    </tr>\n",
       "    <tr>\n",
       "      <th>1</th>\n",
       "      <td>blues.00001.wav</td>\n",
       "      <td>661794</td>\n",
       "      <td>0.340914</td>\n",
       "      <td>0.094980</td>\n",
       "      <td>0.095948</td>\n",
       "      <td>0.002373</td>\n",
       "      <td>1530.176679</td>\n",
       "      <td>375850.073649</td>\n",
       "      <td>2039.036516</td>\n",
       "      <td>213843.755497</td>\n",
       "      <td>...</td>\n",
       "      <td>55.356403</td>\n",
       "      <td>-0.731125</td>\n",
       "      <td>60.314529</td>\n",
       "      <td>0.295073</td>\n",
       "      <td>48.120598</td>\n",
       "      <td>-0.283518</td>\n",
       "      <td>51.106190</td>\n",
       "      <td>0.531217</td>\n",
       "      <td>45.786282</td>\n",
       "      <td>blues</td>\n",
       "    </tr>\n",
       "    <tr>\n",
       "      <th>2</th>\n",
       "      <td>blues.00002.wav</td>\n",
       "      <td>661794</td>\n",
       "      <td>0.363637</td>\n",
       "      <td>0.085275</td>\n",
       "      <td>0.175570</td>\n",
       "      <td>0.002746</td>\n",
       "      <td>1552.811865</td>\n",
       "      <td>156467.643368</td>\n",
       "      <td>1747.702312</td>\n",
       "      <td>76254.192257</td>\n",
       "      <td>...</td>\n",
       "      <td>40.598766</td>\n",
       "      <td>-7.729093</td>\n",
       "      <td>47.639427</td>\n",
       "      <td>-1.816407</td>\n",
       "      <td>52.382141</td>\n",
       "      <td>-3.439720</td>\n",
       "      <td>46.639660</td>\n",
       "      <td>-2.231258</td>\n",
       "      <td>30.573025</td>\n",
       "      <td>blues</td>\n",
       "    </tr>\n",
       "    <tr>\n",
       "      <th>3</th>\n",
       "      <td>blues.00003.wav</td>\n",
       "      <td>661794</td>\n",
       "      <td>0.404785</td>\n",
       "      <td>0.093999</td>\n",
       "      <td>0.141093</td>\n",
       "      <td>0.006346</td>\n",
       "      <td>1070.106615</td>\n",
       "      <td>184355.942417</td>\n",
       "      <td>1596.412872</td>\n",
       "      <td>166441.494769</td>\n",
       "      <td>...</td>\n",
       "      <td>44.427753</td>\n",
       "      <td>-3.319597</td>\n",
       "      <td>50.206673</td>\n",
       "      <td>0.636965</td>\n",
       "      <td>37.319130</td>\n",
       "      <td>-0.619121</td>\n",
       "      <td>37.259739</td>\n",
       "      <td>-3.407448</td>\n",
       "      <td>31.949339</td>\n",
       "      <td>blues</td>\n",
       "    </tr>\n",
       "    <tr>\n",
       "      <th>4</th>\n",
       "      <td>blues.00004.wav</td>\n",
       "      <td>661794</td>\n",
       "      <td>0.308526</td>\n",
       "      <td>0.087841</td>\n",
       "      <td>0.091529</td>\n",
       "      <td>0.002303</td>\n",
       "      <td>1835.004266</td>\n",
       "      <td>343399.939274</td>\n",
       "      <td>1748.172116</td>\n",
       "      <td>88445.209036</td>\n",
       "      <td>...</td>\n",
       "      <td>86.099236</td>\n",
       "      <td>-5.454034</td>\n",
       "      <td>75.269707</td>\n",
       "      <td>-0.916874</td>\n",
       "      <td>53.613918</td>\n",
       "      <td>-4.404827</td>\n",
       "      <td>62.910812</td>\n",
       "      <td>-11.703234</td>\n",
       "      <td>55.195160</td>\n",
       "      <td>blues</td>\n",
       "    </tr>\n",
       "  </tbody>\n",
       "</table>\n",
       "<p>5 rows × 60 columns</p>\n",
       "</div>"
      ],
      "text/plain": [
       "          filename  length  chroma_stft_mean  chroma_stft_var  rms_mean  \\\n",
       "0  blues.00000.wav  661794          0.350088         0.088757  0.130228   \n",
       "1  blues.00001.wav  661794          0.340914         0.094980  0.095948   \n",
       "2  blues.00002.wav  661794          0.363637         0.085275  0.175570   \n",
       "3  blues.00003.wav  661794          0.404785         0.093999  0.141093   \n",
       "4  blues.00004.wav  661794          0.308526         0.087841  0.091529   \n",
       "\n",
       "    rms_var  spectral_centroid_mean  spectral_centroid_var  \\\n",
       "0  0.002827             1784.165850          129774.064525   \n",
       "1  0.002373             1530.176679          375850.073649   \n",
       "2  0.002746             1552.811865          156467.643368   \n",
       "3  0.006346             1070.106615          184355.942417   \n",
       "4  0.002303             1835.004266          343399.939274   \n",
       "\n",
       "   spectral_bandwidth_mean  spectral_bandwidth_var  ...  mfcc16_var  \\\n",
       "0              2002.449060            85882.761315  ...   52.420910   \n",
       "1              2039.036516           213843.755497  ...   55.356403   \n",
       "2              1747.702312            76254.192257  ...   40.598766   \n",
       "3              1596.412872           166441.494769  ...   44.427753   \n",
       "4              1748.172116            88445.209036  ...   86.099236   \n",
       "\n",
       "   mfcc17_mean  mfcc17_var  mfcc18_mean  mfcc18_var  mfcc19_mean  mfcc19_var  \\\n",
       "0    -1.690215   36.524071    -0.408979   41.597103    -2.303523   55.062923   \n",
       "1    -0.731125   60.314529     0.295073   48.120598    -0.283518   51.106190   \n",
       "2    -7.729093   47.639427    -1.816407   52.382141    -3.439720   46.639660   \n",
       "3    -3.319597   50.206673     0.636965   37.319130    -0.619121   37.259739   \n",
       "4    -5.454034   75.269707    -0.916874   53.613918    -4.404827   62.910812   \n",
       "\n",
       "   mfcc20_mean  mfcc20_var  label  \n",
       "0     1.221291   46.936035  blues  \n",
       "1     0.531217   45.786282  blues  \n",
       "2    -2.231258   30.573025  blues  \n",
       "3    -3.407448   31.949339  blues  \n",
       "4   -11.703234   55.195160  blues  \n",
       "\n",
       "[5 rows x 60 columns]"
      ]
     },
     "execution_count": 4,
     "metadata": {},
     "output_type": "execute_result"
    }
   ],
   "source": [
    "data.head()"
   ]
  },
  {
   "cell_type": "code",
   "execution_count": 5,
   "metadata": {},
   "outputs": [
    {
     "data": {
      "text/html": [
       "<div>\n",
       "<style scoped>\n",
       "    .dataframe tbody tr th:only-of-type {\n",
       "        vertical-align: middle;\n",
       "    }\n",
       "\n",
       "    .dataframe tbody tr th {\n",
       "        vertical-align: top;\n",
       "    }\n",
       "\n",
       "    .dataframe thead th {\n",
       "        text-align: right;\n",
       "    }\n",
       "</style>\n",
       "<table border=\"1\" class=\"dataframe\">\n",
       "  <thead>\n",
       "    <tr style=\"text-align: right;\">\n",
       "      <th></th>\n",
       "      <th>chroma_stft_mean</th>\n",
       "      <th>chroma_stft_var</th>\n",
       "      <th>rms_mean</th>\n",
       "      <th>rms_var</th>\n",
       "      <th>spectral_centroid_mean</th>\n",
       "      <th>spectral_centroid_var</th>\n",
       "      <th>spectral_bandwidth_mean</th>\n",
       "      <th>spectral_bandwidth_var</th>\n",
       "      <th>rolloff_mean</th>\n",
       "      <th>rolloff_var</th>\n",
       "      <th>...</th>\n",
       "      <th>mfcc9_mean</th>\n",
       "      <th>mfcc9_var</th>\n",
       "      <th>mfcc10_mean</th>\n",
       "      <th>mfcc10_var</th>\n",
       "      <th>mfcc11_mean</th>\n",
       "      <th>mfcc11_var</th>\n",
       "      <th>mfcc12_mean</th>\n",
       "      <th>mfcc12_var</th>\n",
       "      <th>mfcc13_mean</th>\n",
       "      <th>mfcc13_var</th>\n",
       "    </tr>\n",
       "  </thead>\n",
       "  <tbody>\n",
       "    <tr>\n",
       "      <th>0</th>\n",
       "      <td>0.350088</td>\n",
       "      <td>0.088757</td>\n",
       "      <td>0.130228</td>\n",
       "      <td>0.002827</td>\n",
       "      <td>1784.165850</td>\n",
       "      <td>129774.064525</td>\n",
       "      <td>2002.449060</td>\n",
       "      <td>85882.761315</td>\n",
       "      <td>3805.839606</td>\n",
       "      <td>9.015054e+05</td>\n",
       "      <td>...</td>\n",
       "      <td>-12.274110</td>\n",
       "      <td>82.204201</td>\n",
       "      <td>10.976572</td>\n",
       "      <td>63.386311</td>\n",
       "      <td>-8.326573</td>\n",
       "      <td>61.773094</td>\n",
       "      <td>8.803792</td>\n",
       "      <td>51.244125</td>\n",
       "      <td>-3.672300</td>\n",
       "      <td>41.217415</td>\n",
       "    </tr>\n",
       "    <tr>\n",
       "      <th>1</th>\n",
       "      <td>0.340914</td>\n",
       "      <td>0.094980</td>\n",
       "      <td>0.095948</td>\n",
       "      <td>0.002373</td>\n",
       "      <td>1530.176679</td>\n",
       "      <td>375850.073649</td>\n",
       "      <td>2039.036516</td>\n",
       "      <td>213843.755497</td>\n",
       "      <td>3550.522098</td>\n",
       "      <td>2.977893e+06</td>\n",
       "      <td>...</td>\n",
       "      <td>-10.099661</td>\n",
       "      <td>166.108521</td>\n",
       "      <td>11.900497</td>\n",
       "      <td>104.358612</td>\n",
       "      <td>-5.555639</td>\n",
       "      <td>105.173630</td>\n",
       "      <td>5.376327</td>\n",
       "      <td>96.197212</td>\n",
       "      <td>-2.231760</td>\n",
       "      <td>64.914291</td>\n",
       "    </tr>\n",
       "    <tr>\n",
       "      <th>2</th>\n",
       "      <td>0.363637</td>\n",
       "      <td>0.085275</td>\n",
       "      <td>0.175570</td>\n",
       "      <td>0.002746</td>\n",
       "      <td>1552.811865</td>\n",
       "      <td>156467.643368</td>\n",
       "      <td>1747.702312</td>\n",
       "      <td>76254.192257</td>\n",
       "      <td>3042.260232</td>\n",
       "      <td>7.840345e+05</td>\n",
       "      <td>...</td>\n",
       "      <td>-11.783643</td>\n",
       "      <td>65.447945</td>\n",
       "      <td>9.718760</td>\n",
       "      <td>67.908859</td>\n",
       "      <td>-13.133803</td>\n",
       "      <td>57.781425</td>\n",
       "      <td>5.791199</td>\n",
       "      <td>64.480209</td>\n",
       "      <td>-8.907628</td>\n",
       "      <td>60.385151</td>\n",
       "    </tr>\n",
       "    <tr>\n",
       "      <th>3</th>\n",
       "      <td>0.404785</td>\n",
       "      <td>0.093999</td>\n",
       "      <td>0.141093</td>\n",
       "      <td>0.006346</td>\n",
       "      <td>1070.106615</td>\n",
       "      <td>184355.942417</td>\n",
       "      <td>1596.412872</td>\n",
       "      <td>166441.494769</td>\n",
       "      <td>2184.745799</td>\n",
       "      <td>1.493194e+06</td>\n",
       "      <td>...</td>\n",
       "      <td>-0.759186</td>\n",
       "      <td>92.114090</td>\n",
       "      <td>8.137607</td>\n",
       "      <td>71.314079</td>\n",
       "      <td>-3.200653</td>\n",
       "      <td>110.236687</td>\n",
       "      <td>6.079319</td>\n",
       "      <td>48.251999</td>\n",
       "      <td>-2.480174</td>\n",
       "      <td>56.799400</td>\n",
       "    </tr>\n",
       "    <tr>\n",
       "      <th>4</th>\n",
       "      <td>0.308526</td>\n",
       "      <td>0.087841</td>\n",
       "      <td>0.091529</td>\n",
       "      <td>0.002303</td>\n",
       "      <td>1835.004266</td>\n",
       "      <td>343399.939274</td>\n",
       "      <td>1748.172116</td>\n",
       "      <td>88445.209036</td>\n",
       "      <td>3579.757627</td>\n",
       "      <td>1.572978e+06</td>\n",
       "      <td>...</td>\n",
       "      <td>-11.793437</td>\n",
       "      <td>130.073349</td>\n",
       "      <td>1.207256</td>\n",
       "      <td>99.675575</td>\n",
       "      <td>-13.088418</td>\n",
       "      <td>80.254066</td>\n",
       "      <td>-2.813867</td>\n",
       "      <td>86.430626</td>\n",
       "      <td>-6.933385</td>\n",
       "      <td>89.555443</td>\n",
       "    </tr>\n",
       "  </tbody>\n",
       "</table>\n",
       "<p>5 rows × 43 columns</p>\n",
       "</div>"
      ],
      "text/plain": [
       "   chroma_stft_mean  chroma_stft_var  rms_mean   rms_var  \\\n",
       "0          0.350088         0.088757  0.130228  0.002827   \n",
       "1          0.340914         0.094980  0.095948  0.002373   \n",
       "2          0.363637         0.085275  0.175570  0.002746   \n",
       "3          0.404785         0.093999  0.141093  0.006346   \n",
       "4          0.308526         0.087841  0.091529  0.002303   \n",
       "\n",
       "   spectral_centroid_mean  spectral_centroid_var  spectral_bandwidth_mean  \\\n",
       "0             1784.165850          129774.064525              2002.449060   \n",
       "1             1530.176679          375850.073649              2039.036516   \n",
       "2             1552.811865          156467.643368              1747.702312   \n",
       "3             1070.106615          184355.942417              1596.412872   \n",
       "4             1835.004266          343399.939274              1748.172116   \n",
       "\n",
       "   spectral_bandwidth_var  rolloff_mean   rolloff_var  ...  mfcc9_mean  \\\n",
       "0            85882.761315   3805.839606  9.015054e+05  ...  -12.274110   \n",
       "1           213843.755497   3550.522098  2.977893e+06  ...  -10.099661   \n",
       "2            76254.192257   3042.260232  7.840345e+05  ...  -11.783643   \n",
       "3           166441.494769   2184.745799  1.493194e+06  ...   -0.759186   \n",
       "4            88445.209036   3579.757627  1.572978e+06  ...  -11.793437   \n",
       "\n",
       "    mfcc9_var  mfcc10_mean  mfcc10_var  mfcc11_mean  mfcc11_var  mfcc12_mean  \\\n",
       "0   82.204201    10.976572   63.386311    -8.326573   61.773094     8.803792   \n",
       "1  166.108521    11.900497  104.358612    -5.555639  105.173630     5.376327   \n",
       "2   65.447945     9.718760   67.908859   -13.133803   57.781425     5.791199   \n",
       "3   92.114090     8.137607   71.314079    -3.200653  110.236687     6.079319   \n",
       "4  130.073349     1.207256   99.675575   -13.088418   80.254066    -2.813867   \n",
       "\n",
       "   mfcc12_var  mfcc13_mean  mfcc13_var  \n",
       "0   51.244125    -3.672300   41.217415  \n",
       "1   96.197212    -2.231760   64.914291  \n",
       "2   64.480209    -8.907628   60.385151  \n",
       "3   48.251999    -2.480174   56.799400  \n",
       "4   86.430626    -6.933385   89.555443  \n",
       "\n",
       "[5 rows x 43 columns]"
      ]
     },
     "execution_count": 5,
     "metadata": {},
     "output_type": "execute_result"
    }
   ],
   "source": [
    "dataset = data[data['label'].isin(['blues', 'classical', 'country', 'disco', 'hiphop', 'jazz', 'metal', 'pop', 'reggae', 'rock'])].drop(['filename','length'],axis=1)\n",
    "dataset.iloc[:, :-15].head()"
   ]
  },
  {
   "cell_type": "code",
   "execution_count": 6,
   "metadata": {},
   "outputs": [],
   "source": [
    "from sklearn.model_selection import train_test_split\n",
    "from sklearn.preprocessing import LabelEncoder, StandardScaler\n",
    "from sklearn import preprocessing"
   ]
  },
  {
   "cell_type": "code",
   "execution_count": 7,
   "metadata": {},
   "outputs": [
    {
     "data": {
      "text/plain": [
       "(1000,)"
      ]
     },
     "execution_count": 7,
     "metadata": {},
     "output_type": "execute_result"
    }
   ],
   "source": [
    "y = LabelEncoder().fit_transform(dataset.iloc[:,-1])\n",
    "y.shape"
   ]
  },
  {
   "cell_type": "code",
   "execution_count": 8,
   "metadata": {},
   "outputs": [
    {
     "data": {
      "text/plain": [
       "(1000, 43)"
      ]
     },
     "execution_count": 8,
     "metadata": {},
     "output_type": "execute_result"
    }
   ],
   "source": [
    "X = StandardScaler().fit_transform(np.array(dataset.iloc[:, :-15], dtype = float))\n",
    "X.shape"
   ]
  },
  {
   "cell_type": "code",
   "execution_count": 9,
   "metadata": {},
   "outputs": [
    {
     "name": "stdout",
     "output_type": "stream",
     "text": [
      "Train set: (700, 43) (700,)\n",
      "Test set: (300, 43) (300,)\n"
     ]
    }
   ],
   "source": [
    "X_train, X_test, y_train, y_test = train_test_split(X,y,test_size=0.30,random_state=42)\n",
    "print ('Train set:', X_train.shape,  y_train.shape)\n",
    "print ('Test set:', X_test.shape,  y_test.shape)"
   ]
  },
  {
   "cell_type": "code",
   "execution_count": 10,
   "metadata": {},
   "outputs": [],
   "source": [
    "import tensorflow.keras as keras"
   ]
  },
  {
   "cell_type": "code",
   "execution_count": 11,
   "metadata": {},
   "outputs": [
    {
     "name": "stderr",
     "output_type": "stream",
     "text": [
      "Using TensorFlow backend.\n"
     ]
    }
   ],
   "source": [
    "from keras.models import Sequential\n",
    "from keras.layers import Dense\n",
    "from keras.layers import Dropout, BatchNormalization\n",
    "from keras.layers import LSTM"
   ]
  },
  {
   "cell_type": "code",
   "execution_count": null,
   "metadata": {},
   "outputs": [],
   "source": [
    "# Model 1 (FNN)"
   ]
  },
  {
   "cell_type": "code",
   "execution_count": 55,
   "metadata": {},
   "outputs": [],
   "source": [
    "# defining our regression model \n",
    "n_cols = dataset.iloc[:, :-15].shape[1]\n",
    "def regression_model_1():\n",
    "    # structure of our model\n",
    "    model = Sequential()\n",
    "    model.add(Dense(256, activation='relu', input_shape=(n_cols,)))\n",
    "    model.add(BatchNormalization())\n",
    "    model.add(Dropout(0.2))\n",
    "    model.add(Dense(128, activation='relu'))\n",
    "    model.add(BatchNormalization())\n",
    "    model.add(Dropout(0.2))\n",
    "    model.add(Dense(64, activation='relu',))\n",
    "    model.add(BatchNormalization())\n",
    "    model.add(Dropout(0.2))\n",
    "    model.add(Dense(32, activation='relu'))\n",
    "    model.add(BatchNormalization())\n",
    "    model.add(Dropout(0.2))\n",
    "    model.add(Dense(10,activation='softmax'))\n",
    "    \n",
    "    # compile model\n",
    "    model.compile(optimizer='adam', loss='sparse_categorical_crossentropy', metrics=['accuracy'])\n",
    "    return model"
   ]
  },
  {
   "cell_type": "code",
   "execution_count": 66,
   "metadata": {},
   "outputs": [],
   "source": [
    "from keras.callbacks import EarlyStopping, ReduceLROnPlateau\n",
    "earlystop = EarlyStopping(patience=10)\n",
    "learning_rate_reduction = ReduceLROnPlateau(monitor='val_accuracy', \n",
    "                                            patience=10, \n",
    "                                            verbose=1, \n",
    "                                            )\n",
    "Callbacks = [earlystop, learning_rate_reduction]"
   ]
  },
  {
   "cell_type": "code",
   "execution_count": 67,
   "metadata": {},
   "outputs": [
    {
     "name": "stdout",
     "output_type": "stream",
     "text": [
      "Train on 700 samples, validate on 300 samples\n",
      "Epoch 1/100\n",
      "700/700 [==============================] - 3s 4ms/step - loss: 2.7826 - accuracy: 0.1471 - val_loss: 2.2480 - val_accuracy: 0.2067\n",
      "Epoch 2/100\n",
      "700/700 [==============================] - 0s 259us/step - loss: 2.1722 - accuracy: 0.2871 - val_loss: 2.1732 - val_accuracy: 0.2733\n",
      "Epoch 3/100\n",
      "700/700 [==============================] - 0s 319us/step - loss: 1.9252 - accuracy: 0.3386 - val_loss: 2.1049 - val_accuracy: 0.3467\n",
      "Epoch 4/100\n",
      "700/700 [==============================] - 0s 288us/step - loss: 1.7512 - accuracy: 0.4171 - val_loss: 2.0423 - val_accuracy: 0.3767\n",
      "Epoch 5/100\n",
      "700/700 [==============================] - 0s 264us/step - loss: 1.5767 - accuracy: 0.4586 - val_loss: 1.9857 - val_accuracy: 0.4000\n",
      "Epoch 6/100\n",
      "700/700 [==============================] - 0s 289us/step - loss: 1.4685 - accuracy: 0.5029 - val_loss: 1.9340 - val_accuracy: 0.4033\n",
      "Epoch 7/100\n",
      "700/700 [==============================] - 0s 249us/step - loss: 1.4284 - accuracy: 0.5229 - val_loss: 1.8821 - val_accuracy: 0.4400\n",
      "Epoch 8/100\n",
      "700/700 [==============================] - 0s 256us/step - loss: 1.3624 - accuracy: 0.5343 - val_loss: 1.8302 - val_accuracy: 0.4767\n",
      "Epoch 9/100\n",
      "700/700 [==============================] - 0s 270us/step - loss: 1.2966 - accuracy: 0.5786 - val_loss: 1.7804 - val_accuracy: 0.5033\n",
      "Epoch 10/100\n",
      "700/700 [==============================] - 0s 253us/step - loss: 1.2332 - accuracy: 0.6143 - val_loss: 1.7320 - val_accuracy: 0.5300\n",
      "Epoch 11/100\n",
      "700/700 [==============================] - 0s 240us/step - loss: 1.2014 - accuracy: 0.6014 - val_loss: 1.6890 - val_accuracy: 0.5567\n",
      "Epoch 12/100\n",
      "700/700 [==============================] - 0s 235us/step - loss: 1.0998 - accuracy: 0.6557 - val_loss: 1.6466 - val_accuracy: 0.5700\n",
      "Epoch 13/100\n",
      "700/700 [==============================] - 0s 276us/step - loss: 1.0802 - accuracy: 0.6471 - val_loss: 1.6066 - val_accuracy: 0.5733\n",
      "Epoch 14/100\n",
      "700/700 [==============================] - 0s 240us/step - loss: 1.0131 - accuracy: 0.6857 - val_loss: 1.5660 - val_accuracy: 0.5867\n",
      "Epoch 15/100\n",
      "700/700 [==============================] - 0s 240us/step - loss: 1.0277 - accuracy: 0.6829 - val_loss: 1.5276 - val_accuracy: 0.5933\n",
      "Epoch 16/100\n",
      "700/700 [==============================] - 0s 278us/step - loss: 0.9412 - accuracy: 0.7086 - val_loss: 1.4927 - val_accuracy: 0.6067\n",
      "Epoch 17/100\n",
      "700/700 [==============================] - 0s 261us/step - loss: 0.9226 - accuracy: 0.7257 - val_loss: 1.4588 - val_accuracy: 0.6167\n",
      "Epoch 18/100\n",
      "700/700 [==============================] - 0s 252us/step - loss: 0.8883 - accuracy: 0.7143 - val_loss: 1.4192 - val_accuracy: 0.6200\n",
      "Epoch 19/100\n",
      "700/700 [==============================] - 0s 319us/step - loss: 0.8624 - accuracy: 0.7443 - val_loss: 1.3845 - val_accuracy: 0.6333\n",
      "Epoch 20/100\n",
      "700/700 [==============================] - 0s 263us/step - loss: 0.8123 - accuracy: 0.7457 - val_loss: 1.3471 - val_accuracy: 0.6300\n",
      "Epoch 21/100\n",
      "700/700 [==============================] - 0s 234us/step - loss: 0.8363 - accuracy: 0.7343 - val_loss: 1.3116 - val_accuracy: 0.6300\n",
      "Epoch 22/100\n",
      "700/700 [==============================] - 0s 240us/step - loss: 0.8190 - accuracy: 0.7343 - val_loss: 1.2773 - val_accuracy: 0.6433\n",
      "Epoch 23/100\n",
      "700/700 [==============================] - 0s 254us/step - loss: 0.7325 - accuracy: 0.7986 - val_loss: 1.2404 - val_accuracy: 0.6567\n",
      "Epoch 24/100\n",
      "700/700 [==============================] - 0s 259us/step - loss: 0.7269 - accuracy: 0.7800 - val_loss: 1.2045 - val_accuracy: 0.6533\n",
      "Epoch 25/100\n",
      "700/700 [==============================] - 0s 264us/step - loss: 0.6662 - accuracy: 0.8000 - val_loss: 1.1721 - val_accuracy: 0.6633\n",
      "Epoch 26/100\n",
      "700/700 [==============================] - 0s 238us/step - loss: 0.6843 - accuracy: 0.7943 - val_loss: 1.1457 - val_accuracy: 0.6600\n",
      "Epoch 27/100\n",
      "700/700 [==============================] - 0s 265us/step - loss: 0.6684 - accuracy: 0.8029 - val_loss: 1.1237 - val_accuracy: 0.6667\n",
      "Epoch 28/100\n",
      "700/700 [==============================] - 0s 244us/step - loss: 0.6783 - accuracy: 0.7829 - val_loss: 1.1001 - val_accuracy: 0.6800\n",
      "Epoch 29/100\n",
      "700/700 [==============================] - 0s 259us/step - loss: 0.6152 - accuracy: 0.8243 - val_loss: 1.0791 - val_accuracy: 0.6800\n",
      "Epoch 30/100\n",
      "700/700 [==============================] - 0s 253us/step - loss: 0.5672 - accuracy: 0.8471 - val_loss: 1.0641 - val_accuracy: 0.6833\n",
      "Epoch 31/100\n",
      "700/700 [==============================] - 0s 216us/step - loss: 0.5857 - accuracy: 0.8200 - val_loss: 1.0580 - val_accuracy: 0.6667\n",
      "Epoch 32/100\n",
      "700/700 [==============================] - 0s 236us/step - loss: 0.5510 - accuracy: 0.8600 - val_loss: 1.0436 - val_accuracy: 0.6800\n",
      "Epoch 33/100\n",
      "700/700 [==============================] - 0s 262us/step - loss: 0.5322 - accuracy: 0.8343 - val_loss: 1.0220 - val_accuracy: 0.6833\n",
      "Epoch 34/100\n",
      "700/700 [==============================] - 0s 302us/step - loss: 0.5366 - accuracy: 0.8414 - val_loss: 0.9969 - val_accuracy: 0.7100\n",
      "Epoch 35/100\n",
      "700/700 [==============================] - 0s 269us/step - loss: 0.5237 - accuracy: 0.8457 - val_loss: 0.9820 - val_accuracy: 0.7233\n",
      "Epoch 36/100\n",
      "700/700 [==============================] - 0s 250us/step - loss: 0.5007 - accuracy: 0.8471 - val_loss: 0.9793 - val_accuracy: 0.7100\n",
      "Epoch 37/100\n",
      "700/700 [==============================] - 0s 237us/step - loss: 0.4761 - accuracy: 0.8586 - val_loss: 0.9813 - val_accuracy: 0.6967\n",
      "Epoch 38/100\n",
      "700/700 [==============================] - 0s 261us/step - loss: 0.4586 - accuracy: 0.8771 - val_loss: 0.9763 - val_accuracy: 0.7000\n",
      "Epoch 39/100\n",
      "700/700 [==============================] - 0s 278us/step - loss: 0.4918 - accuracy: 0.8529 - val_loss: 0.9664 - val_accuracy: 0.6967\n",
      "Epoch 40/100\n",
      "700/700 [==============================] - 0s 272us/step - loss: 0.4388 - accuracy: 0.8743 - val_loss: 0.9513 - val_accuracy: 0.7067\n",
      "Epoch 41/100\n",
      "700/700 [==============================] - 0s 268us/step - loss: 0.4559 - accuracy: 0.8686 - val_loss: 0.9396 - val_accuracy: 0.7167\n",
      "Epoch 42/100\n",
      "700/700 [==============================] - 0s 236us/step - loss: 0.3869 - accuracy: 0.8986 - val_loss: 0.9257 - val_accuracy: 0.7167\n",
      "Epoch 43/100\n",
      "700/700 [==============================] - 0s 225us/step - loss: 0.4127 - accuracy: 0.8729 - val_loss: 0.9236 - val_accuracy: 0.7133\n",
      "Epoch 44/100\n",
      "700/700 [==============================] - 0s 270us/step - loss: 0.4140 - accuracy: 0.8743 - val_loss: 0.9177 - val_accuracy: 0.7133\n",
      "Epoch 45/100\n",
      "700/700 [==============================] - 0s 268us/step - loss: 0.3737 - accuracy: 0.8986 - val_loss: 0.9019 - val_accuracy: 0.7300\n",
      "Epoch 46/100\n",
      "700/700 [==============================] - 0s 261us/step - loss: 0.4012 - accuracy: 0.8871 - val_loss: 0.8891 - val_accuracy: 0.7367\n",
      "Epoch 47/100\n",
      "700/700 [==============================] - 0s 239us/step - loss: 0.3560 - accuracy: 0.9000 - val_loss: 0.8873 - val_accuracy: 0.7267\n",
      "Epoch 48/100\n",
      "700/700 [==============================] - 0s 245us/step - loss: 0.3546 - accuracy: 0.9057 - val_loss: 0.8844 - val_accuracy: 0.7300\n",
      "Epoch 49/100\n",
      "700/700 [==============================] - 0s 240us/step - loss: 0.3344 - accuracy: 0.9129 - val_loss: 0.8887 - val_accuracy: 0.7333\n",
      "Epoch 50/100\n",
      "700/700 [==============================] - 0s 255us/step - loss: 0.3399 - accuracy: 0.8971 - val_loss: 0.8958 - val_accuracy: 0.7333\n",
      "Epoch 51/100\n",
      "700/700 [==============================] - 0s 278us/step - loss: 0.3347 - accuracy: 0.9100 - val_loss: 0.9076 - val_accuracy: 0.7333\n",
      "Epoch 52/100\n",
      "700/700 [==============================] - 0s 296us/step - loss: 0.3193 - accuracy: 0.8986 - val_loss: 0.9081 - val_accuracy: 0.7433\n",
      "Epoch 53/100\n",
      "700/700 [==============================] - 0s 278us/step - loss: 0.3091 - accuracy: 0.9171 - val_loss: 0.8979 - val_accuracy: 0.7533\n",
      "Epoch 54/100\n",
      "700/700 [==============================] - 0s 269us/step - loss: 0.2823 - accuracy: 0.9300 - val_loss: 0.8940 - val_accuracy: 0.7433\n",
      "Epoch 55/100\n",
      "700/700 [==============================] - 0s 265us/step - loss: 0.2992 - accuracy: 0.9114 - val_loss: 0.8937 - val_accuracy: 0.7467\n",
      "Epoch 56/100\n",
      "700/700 [==============================] - 0s 261us/step - loss: 0.3004 - accuracy: 0.9214 - val_loss: 0.8934 - val_accuracy: 0.7500\n"
     ]
    },
    {
     "name": "stdout",
     "output_type": "stream",
     "text": [
      "Epoch 57/100\n",
      "700/700 [==============================] - 0s 243us/step - loss: 0.2707 - accuracy: 0.9257 - val_loss: 0.9033 - val_accuracy: 0.7333\n",
      "Epoch 58/100\n",
      "700/700 [==============================] - 0s 251us/step - loss: 0.2775 - accuracy: 0.9229 - val_loss: 0.9188 - val_accuracy: 0.7333\n"
     ]
    },
    {
     "data": {
      "text/plain": [
       "<keras.callbacks.callbacks.History at 0x16eaf16a550>"
      ]
     },
     "execution_count": 67,
     "metadata": {},
     "output_type": "execute_result"
    }
   ],
   "source": [
    "#build the model\n",
    "# model_1 = regression_model_1()\n",
    "\n",
    "#fit the model\n",
    "# model_1.fit(X_train,y_train, callbacks=Callbacks , validation_data=(X_test,y_test) ,epochs=100,batch_size=150)"
   ]
  },
  {
   "cell_type": "code",
   "execution_count": 68,
   "metadata": {},
   "outputs": [],
   "source": [
    "# model_1.save('Keras_reg_30sec_10.h5')"
   ]
  },
  {
   "cell_type": "code",
   "execution_count": 27,
   "metadata": {},
   "outputs": [
    {
     "name": "stdout",
     "output_type": "stream",
     "text": [
      "accuracy: 73.33%\n"
     ]
    }
   ],
   "source": [
    "from keras.models import load_model\n",
    "model = load_model('Keras_reg_30sec_10.h5')\n",
    "predictions = model.predict_classes(X_test)\n",
    "score = model.evaluate(X_test,y_test, verbose=0)\n",
    "print(\"%s: %.2f%%\" % (model.metrics_names[1], score[1]*100))\n"
   ]
  },
  {
   "cell_type": "code",
   "execution_count": 28,
   "metadata": {},
   "outputs": [
    {
     "name": "stdout",
     "output_type": "stream",
     "text": [
      "[5 7 7 6 4 6 6 5 8 1 8 0 6 9 9 8 2 8 7 3 5 1 3 5 2 2 1 9 9 9 3 1 6 4 3 1 6\n",
      " 5 9 0 3 0 3 9 2 2 9 6 4 8 5 8 2 5 0 0 6 0 2 8 2 0 5 2 6 6 6 8 0 5 1 4 5 7\n",
      " 2 2 6 0 5 3 6 0 2 0 3 5 9 7 7 3 3 4 5 2 7 4 7 0 0 8 7 3 9 2 6 6 5 9 1 9 5\n",
      " 8 9 8 0 4 1 9 5 2 8 4 7 2 2 5 5 4 8 8 5 8 2 9 5 0 1 2 0 0 0 2 7 2 8 9 8 2\n",
      " 8 3 6 1 9 4 9 4 3 6 0 8 5 7 6 6 8 6 2 6 3 3 3 4 1 9 4 3 2 2 8 6 4 6 3 5 8\n",
      " 1 3 3 9 7 9 8 6 1 2 4 3 2 6 0 0 5 6 5 8 5 1 9 4 8 0 1 9 8 6 3 6 2 9 7 3 7\n",
      " 9 0 8 0 5 3 9 5 3 9 4 5 0 0 2 9 1 3 0 2 5 7 3 1 4 0 0 2 0 9 7 8 3 3 5 9 9\n",
      " 0 7 4 0 2 3 8 7 3 6 3 4 1 9 2 5 0 1 6 0 7 5 7 2 2 2 7 3 4 2 9 9 7 5 4 3 4\n",
      " 9 4 0 1]\n",
      "[3 7 7 6 4 6 6 5 8 1 3 0 6 9 2 6 9 8 7 3 7 1 3 5 2 2 1 9 4 9 3 1 6 4 3 1 4\n",
      " 5 0 0 3 2 3 9 9 2 9 6 8 8 3 3 2 5 0 0 6 0 2 8 2 4 5 2 6 0 6 8 9 5 1 4 5 8\n",
      " 9 2 6 0 5 3 6 9 0 0 7 5 0 9 7 8 4 4 5 2 7 8 7 0 0 8 7 6 9 2 6 6 5 9 1 6 5\n",
      " 8 9 0 0 4 1 9 5 2 8 4 7 2 2 5 5 8 2 3 5 3 2 2 5 0 1 9 0 0 0 2 7 2 7 8 8 2\n",
      " 4 3 6 1 3 4 9 4 3 6 0 8 5 7 6 6 4 6 2 6 2 4 3 7 1 9 4 4 2 0 2 6 8 3 3 5 4\n",
      " 1 0 4 3 7 9 8 6 1 2 4 3 2 6 0 0 5 6 5 8 5 1 3 6 8 9 1 6 8 6 3 6 2 2 7 3 7\n",
      " 3 0 4 0 3 6 9 5 3 9 4 5 0 0 2 8 1 3 0 2 1 7 6 1 4 0 0 2 0 6 7 9 3 7 5 6 9\n",
      " 4 7 4 2 2 9 8 7 3 6 3 4 1 9 2 5 2 1 6 0 7 8 7 9 2 7 3 3 4 2 7 9 7 1 4 4 4\n",
      " 9 4 0 1]\n"
     ]
    }
   ],
   "source": [
    "print(y_test)\n",
    "print(predictions)"
   ]
  },
  {
   "cell_type": "code",
   "execution_count": 29,
   "metadata": {},
   "outputs": [],
   "source": [
    "from sklearn.metrics import confusion_matrix"
   ]
  },
  {
   "cell_type": "code",
   "execution_count": 30,
   "metadata": {},
   "outputs": [],
   "source": [
    "cf_matrix = confusion_matrix(y_test,predictions)"
   ]
  },
  {
   "cell_type": "code",
   "execution_count": 31,
   "metadata": {},
   "outputs": [
    {
     "name": "stdout",
     "output_type": "stream",
     "text": [
      "[[27  0  3  0  2  0  0  0  0  3]\n",
      " [ 0 20  0  0  0  0  0  0  0  0]\n",
      " [ 2  0 29  0  0  0  0  1  0  5]\n",
      " [ 1  0  1 20  5  0  3  2  1  1]\n",
      " [ 0  0  0  0 18  0  1  1  4  0]\n",
      " [ 0  2  0  3  0 26  0  1  1  0]\n",
      " [ 1  0  0  1  1  0 27  0  0  0]\n",
      " [ 0  0  0  1  0  0  0 20  1  1]\n",
      " [ 1  0  2  4  4  0  1  1 15  1]\n",
      " [ 2  0  3  4  1  0  4  1  2 18]]\n"
     ]
    }
   ],
   "source": [
    "print(cf_matrix)"
   ]
  },
  {
   "cell_type": "code",
   "execution_count": 37,
   "metadata": {},
   "outputs": [
    {
     "data": {
      "text/plain": [
       "<matplotlib.axes._subplots.AxesSubplot at 0x27bd34f6f60>"
      ]
     },
     "execution_count": 37,
     "metadata": {},
     "output_type": "execute_result"
    },
    {
     "data": {
      "image/png": "[encoded data removed]",
      "text/plain": [
       "<Figure size 432x288 with 2 Axes>"
      ]
     },
     "metadata": {
      "needs_background": "light"
     },
     "output_type": "display_data"
    }
   ],
   "source": [
    "import seaborn as sns\n",
    "%matplotlib inline\n",
    "classes=['blues', 'classical', 'country', 'disco', 'hiphop', 'jazz', 'metal', 'pop', 'reggae', 'rock']\n",
    "sns.heatmap(cf_matrix, annot=True , cmap='Blues',xticklabels=classes,yticklabels=classes)"
   ]
  },
  {
   "cell_type": "code",
   "execution_count": null,
   "metadata": {},
   "outputs": [],
   "source": []
  }
 ],
 "metadata": {
  "kernelspec": {
   "display_name": "Python 3",
   "language": "python",
   "name": "python3"
  },
  "language_info": {
   "codemirror_mode": {
    "name": "ipython",
    "version": 3
   },
   "file_extension": ".py",
   "mimetype": "text/x-python",
   "name": "python",
   "nbconvert_exporter": "python",
   "pygments_lexer": "ipython3",
   "version": "3.7.3"
  }
 },
 "nbformat": 4,
 "nbformat_minor": 2
}
