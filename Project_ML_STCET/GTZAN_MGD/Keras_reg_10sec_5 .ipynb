{
 "cells": [
  {
   "cell_type": "code",
   "execution_count": 2,
   "metadata": {},
   "outputs": [],
   "source": [
    "import pandas as pd\n",
    "import numpy as np"
   ]
  },
  {
   "cell_type": "code",
   "execution_count": 3,
   "metadata": {},
   "outputs": [],
   "source": [
    "data = pd.read_csv('features_10_sec.csv')"
   ]
  },
  {
   "cell_type": "code",
   "execution_count": 4,
   "metadata": {},
   "outputs": [
    {
     "data": {
      "text/html": [
       "<div>\n",
       "<style scoped>\n",
       "    .dataframe tbody tr th:only-of-type {\n",
       "        vertical-align: middle;\n",
       "    }\n",
       "\n",
       "    .dataframe tbody tr th {\n",
       "        vertical-align: top;\n",
       "    }\n",
       "\n",
       "    .dataframe thead th {\n",
       "        text-align: right;\n",
       "    }\n",
       "</style>\n",
       "<table border=\"1\" class=\"dataframe\">\n",
       "  <thead>\n",
       "    <tr style=\"text-align: right;\">\n",
       "      <th></th>\n",
       "      <th>filename</th>\n",
       "      <th>length</th>\n",
       "      <th>chroma_stft_mean</th>\n",
       "      <th>chroma_stft_var</th>\n",
       "      <th>rms_mean</th>\n",
       "      <th>rms_var</th>\n",
       "      <th>spectral_centroid_mean</th>\n",
       "      <th>spectral_centroid_var</th>\n",
       "      <th>spectral_bandwidth_mean</th>\n",
       "      <th>spectral_bandwidth_var</th>\n",
       "      <th>...</th>\n",
       "      <th>mfcc16_var</th>\n",
       "      <th>mfcc17_mean</th>\n",
       "      <th>mfcc17_var</th>\n",
       "      <th>mfcc18_mean</th>\n",
       "      <th>mfcc18_var</th>\n",
       "      <th>mfcc19_mean</th>\n",
       "      <th>mfcc19_var</th>\n",
       "      <th>mfcc20_mean</th>\n",
       "      <th>mfcc20_var</th>\n",
       "      <th>label</th>\n",
       "    </tr>\n",
       "  </thead>\n",
       "  <tbody>\n",
       "    <tr>\n",
       "      <th>0</th>\n",
       "      <td>blues.00000_1.wav</td>\n",
       "      <td>22064</td>\n",
       "      <td>0.342053</td>\n",
       "      <td>0.089037</td>\n",
       "      <td>0.124483</td>\n",
       "      <td>0.003146</td>\n",
       "      <td>1782.622682</td>\n",
       "      <td>116977.082472</td>\n",
       "      <td>2020.556328</td>\n",
       "      <td>84328.680518</td>\n",
       "      <td>...</td>\n",
       "      <td>69.972047</td>\n",
       "      <td>-2.870996</td>\n",
       "      <td>35.479566</td>\n",
       "      <td>0.306076</td>\n",
       "      <td>43.506837</td>\n",
       "      <td>-2.700369</td>\n",
       "      <td>58.693996</td>\n",
       "      <td>2.370232</td>\n",
       "      <td>48.047722</td>\n",
       "      <td>blues</td>\n",
       "    </tr>\n",
       "    <tr>\n",
       "      <th>1</th>\n",
       "      <td>blues.00000_2.wav</td>\n",
       "      <td>22064</td>\n",
       "      <td>0.366391</td>\n",
       "      <td>0.088113</td>\n",
       "      <td>0.135369</td>\n",
       "      <td>0.002848</td>\n",
       "      <td>1803.133844</td>\n",
       "      <td>181387.013868</td>\n",
       "      <td>2043.208033</td>\n",
       "      <td>90946.378997</td>\n",
       "      <td>...</td>\n",
       "      <td>37.156276</td>\n",
       "      <td>-0.946113</td>\n",
       "      <td>38.908409</td>\n",
       "      <td>-0.170837</td>\n",
       "      <td>44.038218</td>\n",
       "      <td>-2.291197</td>\n",
       "      <td>39.561969</td>\n",
       "      <td>1.508931</td>\n",
       "      <td>30.957496</td>\n",
       "      <td>blues</td>\n",
       "    </tr>\n",
       "    <tr>\n",
       "      <th>2</th>\n",
       "      <td>blues.00000_3.wav</td>\n",
       "      <td>22064</td>\n",
       "      <td>0.341613</td>\n",
       "      <td>0.088826</td>\n",
       "      <td>0.130891</td>\n",
       "      <td>0.002418</td>\n",
       "      <td>1767.406536</td>\n",
       "      <td>92117.458238</td>\n",
       "      <td>1944.426261</td>\n",
       "      <td>77565.158753</td>\n",
       "      <td>...</td>\n",
       "      <td>49.559095</td>\n",
       "      <td>-2.871220</td>\n",
       "      <td>34.696121</td>\n",
       "      <td>0.118136</td>\n",
       "      <td>36.728977</td>\n",
       "      <td>-3.230836</td>\n",
       "      <td>67.714219</td>\n",
       "      <td>0.995681</td>\n",
       "      <td>59.710692</td>\n",
       "      <td>blues</td>\n",
       "    </tr>\n",
       "    <tr>\n",
       "      <th>3</th>\n",
       "      <td>blues.00001_1.wav</td>\n",
       "      <td>22064</td>\n",
       "      <td>0.358000</td>\n",
       "      <td>0.090658</td>\n",
       "      <td>0.094405</td>\n",
       "      <td>0.002332</td>\n",
       "      <td>1364.273766</td>\n",
       "      <td>291346.764439</td>\n",
       "      <td>1842.030467</td>\n",
       "      <td>221553.848927</td>\n",
       "      <td>...</td>\n",
       "      <td>62.798435</td>\n",
       "      <td>0.497852</td>\n",
       "      <td>61.236266</td>\n",
       "      <td>0.039325</td>\n",
       "      <td>48.482973</td>\n",
       "      <td>-1.083576</td>\n",
       "      <td>54.454642</td>\n",
       "      <td>-0.112308</td>\n",
       "      <td>53.948946</td>\n",
       "      <td>blues</td>\n",
       "    </tr>\n",
       "    <tr>\n",
       "      <th>4</th>\n",
       "      <td>blues.00001_2.wav</td>\n",
       "      <td>22064</td>\n",
       "      <td>0.346125</td>\n",
       "      <td>0.100884</td>\n",
       "      <td>0.087959</td>\n",
       "      <td>0.002073</td>\n",
       "      <td>1581.277785</td>\n",
       "      <td>445452.088998</td>\n",
       "      <td>2125.234003</td>\n",
       "      <td>208450.714793</td>\n",
       "      <td>...</td>\n",
       "      <td>54.984588</td>\n",
       "      <td>0.114600</td>\n",
       "      <td>57.306570</td>\n",
       "      <td>-0.367247</td>\n",
       "      <td>48.318131</td>\n",
       "      <td>-2.646991</td>\n",
       "      <td>40.664638</td>\n",
       "      <td>1.118412</td>\n",
       "      <td>45.825510</td>\n",
       "      <td>blues</td>\n",
       "    </tr>\n",
       "  </tbody>\n",
       "</table>\n",
       "<p>5 rows × 60 columns</p>\n",
       "</div>"
      ],
      "text/plain": [
       "            filename  length  chroma_stft_mean  chroma_stft_var  rms_mean  \\\n",
       "0  blues.00000_1.wav   22064          0.342053         0.089037  0.124483   \n",
       "1  blues.00000_2.wav   22064          0.366391         0.088113  0.135369   \n",
       "2  blues.00000_3.wav   22064          0.341613         0.088826  0.130891   \n",
       "3  blues.00001_1.wav   22064          0.358000         0.090658  0.094405   \n",
       "4  blues.00001_2.wav   22064          0.346125         0.100884  0.087959   \n",
       "\n",
       "    rms_var  spectral_centroid_mean  spectral_centroid_var  \\\n",
       "0  0.003146             1782.622682          116977.082472   \n",
       "1  0.002848             1803.133844          181387.013868   \n",
       "2  0.002418             1767.406536           92117.458238   \n",
       "3  0.002332             1364.273766          291346.764439   \n",
       "4  0.002073             1581.277785          445452.088998   \n",
       "\n",
       "   spectral_bandwidth_mean  spectral_bandwidth_var  ...  mfcc16_var  \\\n",
       "0              2020.556328            84328.680518  ...   69.972047   \n",
       "1              2043.208033            90946.378997  ...   37.156276   \n",
       "2              1944.426261            77565.158753  ...   49.559095   \n",
       "3              1842.030467           221553.848927  ...   62.798435   \n",
       "4              2125.234003           208450.714793  ...   54.984588   \n",
       "\n",
       "   mfcc17_mean  mfcc17_var  mfcc18_mean  mfcc18_var  mfcc19_mean  mfcc19_var  \\\n",
       "0    -2.870996   35.479566     0.306076   43.506837    -2.700369   58.693996   \n",
       "1    -0.946113   38.908409    -0.170837   44.038218    -2.291197   39.561969   \n",
       "2    -2.871220   34.696121     0.118136   36.728977    -3.230836   67.714219   \n",
       "3     0.497852   61.236266     0.039325   48.482973    -1.083576   54.454642   \n",
       "4     0.114600   57.306570    -0.367247   48.318131    -2.646991   40.664638   \n",
       "\n",
       "   mfcc20_mean  mfcc20_var  label  \n",
       "0     2.370232   48.047722  blues  \n",
       "1     1.508931   30.957496  blues  \n",
       "2     0.995681   59.710692  blues  \n",
       "3    -0.112308   53.948946  blues  \n",
       "4     1.118412   45.825510  blues  \n",
       "\n",
       "[5 rows x 60 columns]"
      ]
     },
     "execution_count": 4,
     "metadata": {},
     "output_type": "execute_result"
    }
   ],
   "source": [
    "data.head()"
   ]
  },
  {
   "cell_type": "code",
   "execution_count": 5,
   "metadata": {},
   "outputs": [
    {
     "data": {
      "text/html": [
       "<div>\n",
       "<style scoped>\n",
       "    .dataframe tbody tr th:only-of-type {\n",
       "        vertical-align: middle;\n",
       "    }\n",
       "\n",
       "    .dataframe tbody tr th {\n",
       "        vertical-align: top;\n",
       "    }\n",
       "\n",
       "    .dataframe thead th {\n",
       "        text-align: right;\n",
       "    }\n",
       "</style>\n",
       "<table border=\"1\" class=\"dataframe\">\n",
       "  <thead>\n",
       "    <tr style=\"text-align: right;\">\n",
       "      <th></th>\n",
       "      <th>chroma_stft_mean</th>\n",
       "      <th>chroma_stft_var</th>\n",
       "      <th>rms_mean</th>\n",
       "      <th>rms_var</th>\n",
       "      <th>spectral_centroid_mean</th>\n",
       "      <th>spectral_centroid_var</th>\n",
       "      <th>spectral_bandwidth_mean</th>\n",
       "      <th>spectral_bandwidth_var</th>\n",
       "      <th>rolloff_mean</th>\n",
       "      <th>rolloff_var</th>\n",
       "      <th>...</th>\n",
       "      <th>mfcc9_mean</th>\n",
       "      <th>mfcc9_var</th>\n",
       "      <th>mfcc10_mean</th>\n",
       "      <th>mfcc10_var</th>\n",
       "      <th>mfcc11_mean</th>\n",
       "      <th>mfcc11_var</th>\n",
       "      <th>mfcc12_mean</th>\n",
       "      <th>mfcc12_var</th>\n",
       "      <th>mfcc13_mean</th>\n",
       "      <th>mfcc13_var</th>\n",
       "    </tr>\n",
       "  </thead>\n",
       "  <tbody>\n",
       "    <tr>\n",
       "      <th>0</th>\n",
       "      <td>0.342053</td>\n",
       "      <td>0.089037</td>\n",
       "      <td>0.124483</td>\n",
       "      <td>0.003146</td>\n",
       "      <td>1782.622682</td>\n",
       "      <td>116977.082472</td>\n",
       "      <td>2020.556328</td>\n",
       "      <td>84328.680518</td>\n",
       "      <td>3845.075667</td>\n",
       "      <td>8.328459e+05</td>\n",
       "      <td>...</td>\n",
       "      <td>-12.438343</td>\n",
       "      <td>88.565788</td>\n",
       "      <td>11.849509</td>\n",
       "      <td>65.871043</td>\n",
       "      <td>-8.861545</td>\n",
       "      <td>55.627559</td>\n",
       "      <td>9.301554</td>\n",
       "      <td>45.831500</td>\n",
       "      <td>-4.159669</td>\n",
       "      <td>41.106483</td>\n",
       "    </tr>\n",
       "    <tr>\n",
       "      <th>1</th>\n",
       "      <td>0.366391</td>\n",
       "      <td>0.088113</td>\n",
       "      <td>0.135369</td>\n",
       "      <td>0.002848</td>\n",
       "      <td>1803.133844</td>\n",
       "      <td>181387.013868</td>\n",
       "      <td>2043.208033</td>\n",
       "      <td>90946.378997</td>\n",
       "      <td>3903.829836</td>\n",
       "      <td>1.121840e+06</td>\n",
       "      <td>...</td>\n",
       "      <td>-12.655364</td>\n",
       "      <td>79.928542</td>\n",
       "      <td>12.149824</td>\n",
       "      <td>50.441130</td>\n",
       "      <td>-7.673405</td>\n",
       "      <td>69.389350</td>\n",
       "      <td>10.479906</td>\n",
       "      <td>48.726247</td>\n",
       "      <td>-4.333720</td>\n",
       "      <td>41.386650</td>\n",
       "    </tr>\n",
       "    <tr>\n",
       "      <th>2</th>\n",
       "      <td>0.341613</td>\n",
       "      <td>0.088826</td>\n",
       "      <td>0.130891</td>\n",
       "      <td>0.002418</td>\n",
       "      <td>1767.406536</td>\n",
       "      <td>92117.458238</td>\n",
       "      <td>1944.426261</td>\n",
       "      <td>77565.158753</td>\n",
       "      <td>3672.610197</td>\n",
       "      <td>7.164378e+05</td>\n",
       "      <td>...</td>\n",
       "      <td>-14.311970</td>\n",
       "      <td>74.174151</td>\n",
       "      <td>11.345278</td>\n",
       "      <td>68.401674</td>\n",
       "      <td>-10.862292</td>\n",
       "      <td>57.401111</td>\n",
       "      <td>8.887645</td>\n",
       "      <td>52.907380</td>\n",
       "      <td>-4.576091</td>\n",
       "      <td>40.318675</td>\n",
       "    </tr>\n",
       "    <tr>\n",
       "      <th>3</th>\n",
       "      <td>0.358000</td>\n",
       "      <td>0.090658</td>\n",
       "      <td>0.094405</td>\n",
       "      <td>0.002332</td>\n",
       "      <td>1364.273766</td>\n",
       "      <td>291346.764439</td>\n",
       "      <td>1842.030467</td>\n",
       "      <td>221553.848927</td>\n",
       "      <td>2976.303348</td>\n",
       "      <td>2.452152e+06</td>\n",
       "      <td>...</td>\n",
       "      <td>-5.247429</td>\n",
       "      <td>170.526753</td>\n",
       "      <td>10.499156</td>\n",
       "      <td>106.796248</td>\n",
       "      <td>-3.123052</td>\n",
       "      <td>73.653359</td>\n",
       "      <td>6.931743</td>\n",
       "      <td>87.721385</td>\n",
       "      <td>-1.881996</td>\n",
       "      <td>64.745123</td>\n",
       "    </tr>\n",
       "    <tr>\n",
       "      <th>4</th>\n",
       "      <td>0.346125</td>\n",
       "      <td>0.100884</td>\n",
       "      <td>0.087959</td>\n",
       "      <td>0.002073</td>\n",
       "      <td>1581.277785</td>\n",
       "      <td>445452.088998</td>\n",
       "      <td>2125.234003</td>\n",
       "      <td>208450.714793</td>\n",
       "      <td>3786.371459</td>\n",
       "      <td>3.232911e+06</td>\n",
       "      <td>...</td>\n",
       "      <td>-14.813420</td>\n",
       "      <td>147.978923</td>\n",
       "      <td>15.075876</td>\n",
       "      <td>104.607382</td>\n",
       "      <td>-8.104753</td>\n",
       "      <td>145.874261</td>\n",
       "      <td>9.272532</td>\n",
       "      <td>106.415909</td>\n",
       "      <td>-3.031386</td>\n",
       "      <td>72.321573</td>\n",
       "    </tr>\n",
       "  </tbody>\n",
       "</table>\n",
       "<p>5 rows × 43 columns</p>\n",
       "</div>"
      ],
      "text/plain": [
       "   chroma_stft_mean  chroma_stft_var  rms_mean   rms_var  \\\n",
       "0          0.342053         0.089037  0.124483  0.003146   \n",
       "1          0.366391         0.088113  0.135369  0.002848   \n",
       "2          0.341613         0.088826  0.130891  0.002418   \n",
       "3          0.358000         0.090658  0.094405  0.002332   \n",
       "4          0.346125         0.100884  0.087959  0.002073   \n",
       "\n",
       "   spectral_centroid_mean  spectral_centroid_var  spectral_bandwidth_mean  \\\n",
       "0             1782.622682          116977.082472              2020.556328   \n",
       "1             1803.133844          181387.013868              2043.208033   \n",
       "2             1767.406536           92117.458238              1944.426261   \n",
       "3             1364.273766          291346.764439              1842.030467   \n",
       "4             1581.277785          445452.088998              2125.234003   \n",
       "\n",
       "   spectral_bandwidth_var  rolloff_mean   rolloff_var  ...  mfcc9_mean  \\\n",
       "0            84328.680518   3845.075667  8.328459e+05  ...  -12.438343   \n",
       "1            90946.378997   3903.829836  1.121840e+06  ...  -12.655364   \n",
       "2            77565.158753   3672.610197  7.164378e+05  ...  -14.311970   \n",
       "3           221553.848927   2976.303348  2.452152e+06  ...   -5.247429   \n",
       "4           208450.714793   3786.371459  3.232911e+06  ...  -14.813420   \n",
       "\n",
       "    mfcc9_var  mfcc10_mean  mfcc10_var  mfcc11_mean  mfcc11_var  mfcc12_mean  \\\n",
       "0   88.565788    11.849509   65.871043    -8.861545   55.627559     9.301554   \n",
       "1   79.928542    12.149824   50.441130    -7.673405   69.389350    10.479906   \n",
       "2   74.174151    11.345278   68.401674   -10.862292   57.401111     8.887645   \n",
       "3  170.526753    10.499156  106.796248    -3.123052   73.653359     6.931743   \n",
       "4  147.978923    15.075876  104.607382    -8.104753  145.874261     9.272532   \n",
       "\n",
       "   mfcc12_var  mfcc13_mean  mfcc13_var  \n",
       "0   45.831500    -4.159669   41.106483  \n",
       "1   48.726247    -4.333720   41.386650  \n",
       "2   52.907380    -4.576091   40.318675  \n",
       "3   87.721385    -1.881996   64.745123  \n",
       "4  106.415909    -3.031386   72.321573  \n",
       "\n",
       "[5 rows x 43 columns]"
      ]
     },
     "execution_count": 5,
     "metadata": {},
     "output_type": "execute_result"
    }
   ],
   "source": [
    "dataset = data[data['label'].isin(['blues', 'classical', 'jazz', 'metal', 'pop'])].drop(['filename','length'],axis=1)\n",
    "dataset.iloc[:, :-15].head()"
   ]
  },
  {
   "cell_type": "code",
   "execution_count": 6,
   "metadata": {},
   "outputs": [],
   "source": [
    "from sklearn.model_selection import train_test_split\n",
    "from sklearn.preprocessing import LabelEncoder, StandardScaler , MinMaxScaler\n",
    "from sklearn import preprocessing"
   ]
  },
  {
   "cell_type": "code",
   "execution_count": 7,
   "metadata": {},
   "outputs": [],
   "source": [
    "encode = LabelEncoder().fit(dataset.iloc[:,-1])\n",
    "y= LabelEncoder().fit_transform(dataset.iloc[:,-1])"
   ]
  },
  {
   "cell_type": "code",
   "execution_count": 8,
   "metadata": {},
   "outputs": [
    {
     "data": {
      "text/plain": [
       "(1497, 43)"
      ]
     },
     "execution_count": 8,
     "metadata": {},
     "output_type": "execute_result"
    }
   ],
   "source": [
    "scaler1 = MinMaxScaler().fit(np.array(dataset.iloc[:, :-15], dtype = float))\n",
    "scaler2 = StandardScaler().fit(np.array(dataset.iloc[:, :-15], dtype = float))\n",
    "X = StandardScaler().fit_transform(np.array(dataset.iloc[:, :-15], dtype = float))\n",
    "X.shape"
   ]
  },
  {
   "cell_type": "code",
   "execution_count": 9,
   "metadata": {},
   "outputs": [
    {
     "name": "stdout",
     "output_type": "stream",
     "text": [
      "Train set: (1047, 43) (1047,)\n",
      "Test set: (450, 43) (450,)\n"
     ]
    }
   ],
   "source": [
    "X_train, X_test, y_train, y_test = train_test_split(X,y,test_size=0.30,random_state=42)\n",
    "print ('Train set:', X_train.shape,  y_train.shape)\n",
    "print ('Test set:', X_test.shape,  y_test.shape)"
   ]
  },
  {
   "cell_type": "code",
   "execution_count": 9,
   "metadata": {},
   "outputs": [],
   "source": [
    "import tensorflow.keras as keras"
   ]
  },
  {
   "cell_type": "code",
   "execution_count": 10,
   "metadata": {},
   "outputs": [
    {
     "name": "stderr",
     "output_type": "stream",
     "text": [
      "Using TensorFlow backend.\n"
     ]
    }
   ],
   "source": [
    "from keras.models import Sequential\n",
    "from keras.layers import Dense\n",
    "from keras.layers import Dropout, BatchNormalization"
   ]
  },
  {
   "cell_type": "code",
   "execution_count": 11,
   "metadata": {},
   "outputs": [],
   "source": [
    "# defining our regression model \n",
    "n_cols = dataset.iloc[:, :-15].shape[1]\n",
    "def regression_model_1():\n",
    "    # structure of our model\n",
    "    model = Sequential()\n",
    "    model.add(Dense(256, activation='relu', input_shape=(n_cols,)))\n",
    "    model.add(BatchNormalization())\n",
    "    model.add(Dropout(0.2))\n",
    "    model.add(Dense(128, activation='relu'))\n",
    "    model.add(BatchNormalization())\n",
    "    model.add(Dropout(0.2))\n",
    "    model.add(Dense(64, activation='relu',))\n",
    "    model.add(BatchNormalization())\n",
    "    model.add(Dropout(0.2))\n",
    "    model.add(Dense(32, activation='relu'))\n",
    "    model.add(BatchNormalization())\n",
    "    model.add(Dropout(0.2))\n",
    "    model.add(Dense(5,activation='softmax'))\n",
    "    \n",
    "    # compile model\n",
    "    model.compile(optimizer='adam', loss='sparse_categorical_crossentropy', metrics=['accuracy'])\n",
    "    return model"
   ]
  },
  {
   "cell_type": "code",
   "execution_count": 12,
   "metadata": {},
   "outputs": [],
   "source": [
    "from keras.callbacks import EarlyStopping, ReduceLROnPlateau\n",
    "earlystop = EarlyStopping(patience=10)\n",
    "learning_rate_reduction = ReduceLROnPlateau(monitor='val_accuracy', \n",
    "                                            patience=10, \n",
    "                                            verbose=1, \n",
    "                                            )\n",
    "Callbacks = [earlystop, learning_rate_reduction]"
   ]
  },
  {
   "cell_type": "code",
   "execution_count": 13,
   "metadata": {},
   "outputs": [
    {
     "name": "stdout",
     "output_type": "stream",
     "text": [
      "WARNING:tensorflow:From C:\\Users\\user1\\Anaconda3\\lib\\site-packages\\tensorflow\\python\\ops\\resource_variable_ops.py:435: colocate_with (from tensorflow.python.framework.ops) is deprecated and will be removed in a future version.\n",
      "Instructions for updating:\n",
      "Colocations handled automatically by placer.\n",
      "WARNING:tensorflow:From C:\\Users\\user1\\Anaconda3\\lib\\site-packages\\tensorflow\\python\\ops\\math_ops.py:3066: to_int32 (from tensorflow.python.ops.math_ops) is deprecated and will be removed in a future version.\n",
      "Instructions for updating:\n",
      "Use tf.cast instead.\n",
      "Train on 1047 samples, validate on 450 samples\n",
      "Epoch 1/100\n",
      "1047/1047 [==============================] - 1s 1ms/step - loss: 1.7397 - accuracy: 0.3486 - val_loss: 1.4210 - val_accuracy: 0.6556\n",
      "Epoch 2/100\n",
      "1047/1047 [==============================] - 0s 70us/step - loss: 1.0113 - accuracy: 0.6055 - val_loss: 1.2101 - val_accuracy: 0.7533\n",
      "Epoch 3/100\n",
      "1047/1047 [==============================] - 0s 70us/step - loss: 0.7447 - accuracy: 0.7230 - val_loss: 1.0498 - val_accuracy: 0.8067\n",
      "Epoch 4/100\n",
      "1047/1047 [==============================] - 0s 76us/step - loss: 0.5889 - accuracy: 0.7985 - val_loss: 0.9158 - val_accuracy: 0.8467\n",
      "Epoch 5/100\n",
      "1047/1047 [==============================] - 0s 70us/step - loss: 0.4861 - accuracy: 0.8367 - val_loss: 0.8017 - val_accuracy: 0.8644\n",
      "Epoch 6/100\n",
      "1047/1047 [==============================] - 0s 80us/step - loss: 0.4279 - accuracy: 0.8577 - val_loss: 0.7053 - val_accuracy: 0.8822\n",
      "Epoch 7/100\n",
      "1047/1047 [==============================] - 0s 72us/step - loss: 0.3645 - accuracy: 0.8797 - val_loss: 0.6300 - val_accuracy: 0.8978\n",
      "Epoch 8/100\n",
      "1047/1047 [==============================] - 0s 82us/step - loss: 0.3230 - accuracy: 0.9035 - val_loss: 0.5652 - val_accuracy: 0.9044\n",
      "Epoch 9/100\n",
      "1047/1047 [==============================] - 0s 74us/step - loss: 0.3153 - accuracy: 0.9007 - val_loss: 0.5103 - val_accuracy: 0.9111\n",
      "Epoch 10/100\n",
      "1047/1047 [==============================] - 0s 74us/step - loss: 0.2896 - accuracy: 0.8997 - val_loss: 0.4626 - val_accuracy: 0.9178\n",
      "Epoch 11/100\n",
      "1047/1047 [==============================] - 0s 74us/step - loss: 0.2468 - accuracy: 0.9236 - val_loss: 0.4213 - val_accuracy: 0.9178\n",
      "Epoch 12/100\n",
      "1047/1047 [==============================] - 0s 75us/step - loss: 0.2434 - accuracy: 0.9236 - val_loss: 0.3843 - val_accuracy: 0.9200\n",
      "Epoch 13/100\n",
      "1047/1047 [==============================] - 0s 70us/step - loss: 0.2161 - accuracy: 0.9417 - val_loss: 0.3506 - val_accuracy: 0.9200\n",
      "Epoch 14/100\n",
      "1047/1047 [==============================] - 0s 70us/step - loss: 0.1822 - accuracy: 0.9446 - val_loss: 0.3202 - val_accuracy: 0.9222\n",
      "Epoch 15/100\n",
      "1047/1047 [==============================] - 0s 81us/step - loss: 0.2032 - accuracy: 0.9398 - val_loss: 0.2975 - val_accuracy: 0.9222\n",
      "Epoch 16/100\n",
      "1047/1047 [==============================] - 0s 69us/step - loss: 0.1851 - accuracy: 0.9370 - val_loss: 0.2782 - val_accuracy: 0.9267\n",
      "Epoch 17/100\n",
      "1047/1047 [==============================] - 0s 82us/step - loss: 0.1724 - accuracy: 0.9427 - val_loss: 0.2593 - val_accuracy: 0.9267\n",
      "Epoch 18/100\n",
      "1047/1047 [==============================] - 0s 78us/step - loss: 0.1624 - accuracy: 0.9542 - val_loss: 0.2450 - val_accuracy: 0.9289\n",
      "Epoch 19/100\n",
      "1047/1047 [==============================] - 0s 71us/step - loss: 0.1448 - accuracy: 0.9589 - val_loss: 0.2318 - val_accuracy: 0.9311\n",
      "Epoch 20/100\n",
      "1047/1047 [==============================] - 0s 76us/step - loss: 0.1281 - accuracy: 0.9675 - val_loss: 0.2188 - val_accuracy: 0.9311\n",
      "Epoch 21/100\n",
      "1047/1047 [==============================] - 0s 77us/step - loss: 0.1407 - accuracy: 0.9570 - val_loss: 0.2097 - val_accuracy: 0.9311\n",
      "Epoch 22/100\n",
      "1047/1047 [==============================] - 0s 71us/step - loss: 0.1169 - accuracy: 0.9685 - val_loss: 0.2052 - val_accuracy: 0.9333\n",
      "Epoch 23/100\n",
      "1047/1047 [==============================] - 0s 81us/step - loss: 0.1211 - accuracy: 0.9656 - val_loss: 0.1989 - val_accuracy: 0.9333\n",
      "Epoch 24/100\n",
      "1047/1047 [==============================] - 0s 92us/step - loss: 0.1038 - accuracy: 0.9704 - val_loss: 0.1972 - val_accuracy: 0.9289\n",
      "Epoch 25/100\n",
      "1047/1047 [==============================] - 0s 88us/step - loss: 0.1079 - accuracy: 0.9685 - val_loss: 0.1829 - val_accuracy: 0.9378\n",
      "Epoch 26/100\n",
      "1047/1047 [==============================] - 0s 95us/step - loss: 0.0851 - accuracy: 0.9838 - val_loss: 0.1775 - val_accuracy: 0.9378\n",
      "Epoch 27/100\n",
      "1047/1047 [==============================] - 0s 94us/step - loss: 0.0936 - accuracy: 0.9752 - val_loss: 0.1792 - val_accuracy: 0.9356\n",
      "Epoch 28/100\n",
      "1047/1047 [==============================] - 0s 67us/step - loss: 0.0873 - accuracy: 0.9752 - val_loss: 0.1782 - val_accuracy: 0.9378\n",
      "Epoch 29/100\n",
      "1047/1047 [==============================] - 0s 77us/step - loss: 0.0881 - accuracy: 0.9790 - val_loss: 0.1717 - val_accuracy: 0.9378\n",
      "Epoch 30/100\n",
      "1047/1047 [==============================] - 0s 69us/step - loss: 0.0783 - accuracy: 0.9809 - val_loss: 0.1690 - val_accuracy: 0.9400\n",
      "Epoch 31/100\n",
      "1047/1047 [==============================] - 0s 73us/step - loss: 0.0851 - accuracy: 0.9733 - val_loss: 0.1661 - val_accuracy: 0.9378\n",
      "Epoch 32/100\n",
      "1047/1047 [==============================] - 0s 78us/step - loss: 0.0930 - accuracy: 0.9733 - val_loss: 0.1546 - val_accuracy: 0.9422\n",
      "Epoch 33/100\n",
      "1047/1047 [==============================] - 0s 85us/step - loss: 0.0706 - accuracy: 0.9799 - val_loss: 0.1551 - val_accuracy: 0.9422\n",
      "Epoch 34/100\n",
      "1047/1047 [==============================] - 0s 90us/step - loss: 0.0643 - accuracy: 0.9838 - val_loss: 0.1571 - val_accuracy: 0.9511\n",
      "Epoch 35/100\n",
      "1047/1047 [==============================] - 0s 80us/step - loss: 0.0746 - accuracy: 0.9809 - val_loss: 0.1614 - val_accuracy: 0.9511\n",
      "Epoch 36/100\n",
      "1047/1047 [==============================] - 0s 90us/step - loss: 0.0743 - accuracy: 0.9828 - val_loss: 0.1650 - val_accuracy: 0.9533\n",
      "Epoch 37/100\n",
      "1047/1047 [==============================] - 0s 73us/step - loss: 0.0611 - accuracy: 0.9819 - val_loss: 0.1700 - val_accuracy: 0.9467\n",
      "Epoch 38/100\n",
      "1047/1047 [==============================] - 0s 70us/step - loss: 0.0643 - accuracy: 0.9866 - val_loss: 0.1693 - val_accuracy: 0.9444\n",
      "Epoch 39/100\n",
      "1047/1047 [==============================] - 0s 68us/step - loss: 0.0580 - accuracy: 0.9819 - val_loss: 0.1622 - val_accuracy: 0.9533\n",
      "Epoch 40/100\n",
      "1047/1047 [==============================] - 0s 73us/step - loss: 0.0572 - accuracy: 0.9838 - val_loss: 0.1518 - val_accuracy: 0.9533\n",
      "Epoch 41/100\n",
      "1047/1047 [==============================] - 0s 88us/step - loss: 0.0519 - accuracy: 0.9885 - val_loss: 0.1509 - val_accuracy: 0.9511\n",
      "Epoch 42/100\n",
      "1047/1047 [==============================] - 0s 90us/step - loss: 0.0570 - accuracy: 0.9847 - val_loss: 0.1663 - val_accuracy: 0.9489\n",
      "Epoch 43/100\n",
      "1047/1047 [==============================] - 0s 72us/step - loss: 0.0475 - accuracy: 0.9885 - val_loss: 0.1707 - val_accuracy: 0.9444\n",
      "Epoch 44/100\n",
      "1047/1047 [==============================] - 0s 66us/step - loss: 0.0440 - accuracy: 0.9904 - val_loss: 0.1624 - val_accuracy: 0.9489\n",
      "Epoch 45/100\n",
      "1047/1047 [==============================] - 0s 70us/step - loss: 0.0455 - accuracy: 0.9866 - val_loss: 0.1663 - val_accuracy: 0.9533\n",
      "Epoch 46/100\n",
      "1047/1047 [==============================] - 0s 67us/step - loss: 0.0354 - accuracy: 0.9933 - val_loss: 0.1736 - val_accuracy: 0.9511\n",
      "\n",
      "Epoch 00046: ReduceLROnPlateau reducing learning rate to 0.00010000000474974513.\n",
      "Epoch 47/100\n",
      "1047/1047 [==============================] - 0s 67us/step - loss: 0.0369 - accuracy: 0.9904 - val_loss: 0.1723 - val_accuracy: 0.9511\n",
      "Epoch 48/100\n",
      "1047/1047 [==============================] - 0s 76us/step - loss: 0.0448 - accuracy: 0.9819 - val_loss: 0.1699 - val_accuracy: 0.9533\n",
      "Epoch 49/100\n",
      "1047/1047 [==============================] - 0s 85us/step - loss: 0.0442 - accuracy: 0.9866 - val_loss: 0.1670 - val_accuracy: 0.9511\n",
      "Epoch 50/100\n",
      "1047/1047 [==============================] - 0s 90us/step - loss: 0.0436 - accuracy: 0.9895 - val_loss: 0.1641 - val_accuracy: 0.9556\n",
      "Epoch 51/100\n",
      "1047/1047 [==============================] - 0s 93us/step - loss: 0.0473 - accuracy: 0.9885 - val_loss: 0.1624 - val_accuracy: 0.9556\n"
     ]
    },
    {
     "data": {
      "text/plain": [
       "<keras.callbacks.callbacks.History at 0x1efd2a77c50>"
      ]
     },
     "execution_count": 13,
     "metadata": {},
     "output_type": "execute_result"
    }
   ],
   "source": [
    "#build the model\n",
    "# model_1 = regression_model_1()\n",
    "\n",
    "#fit the model\n",
    "# model_1.fit(X_train,y_train, callbacks=Callbacks , validation_data=(X_test,y_test) ,epochs=100,batch_size=150)"
   ]
  },
  {
   "cell_type": "code",
   "execution_count": 14,
   "metadata": {},
   "outputs": [],
   "source": [
    "# model_1.save('Keras_reg_10sec_5.h5')"
   ]
  },
  {
   "cell_type": "code",
   "execution_count": 10,
   "metadata": {},
   "outputs": [
    {
     "name": "stdout",
     "output_type": "stream",
     "text": [
      "accuracy: 95.56%\n"
     ]
    }
   ],
   "source": [
    "from keras.models import load_model\n",
    "model = load_model('Keras_reg_10sec_5.h5')\n",
    "predictions = model.predict_classes(X_test)\n",
    "score = model.evaluate(X_test,y_test, verbose=0)\n",
    "print(\"%s: %.2f%%\" % (model.metrics_names[1], score[1]*100))"
   ]
  },
  {
   "cell_type": "code",
   "execution_count": 11,
   "metadata": {},
   "outputs": [],
   "source": [
    "from sklearn.metrics import confusion_matrix"
   ]
  },
  {
   "cell_type": "code",
   "execution_count": 12,
   "metadata": {},
   "outputs": [
    {
     "data": {
      "text/plain": [
       "<matplotlib.axes._subplots.AxesSubplot at 0x276d3d79c50>"
      ]
     },
     "execution_count": 12,
     "metadata": {},
     "output_type": "execute_result"
    },
    {
     "data": {
      "image/png": "[encoded data removed]",
      "text/plain": [
       "<Figure size 432x288 with 2 Axes>"
      ]
     },
     "metadata": {
      "needs_background": "light"
     },
     "output_type": "display_data"
    }
   ],
   "source": [
    "cf_matrix = confusion_matrix(y_test,predictions)\n",
    "import seaborn as sns\n",
    "%matplotlib inline\n",
    "classes=['blues', 'classical', 'jazz', 'metal', 'pop']\n",
    "sns.heatmap(cf_matrix, annot=True , cmap='Blues',xticklabels=classes,yticklabels=classes)"
   ]
  },
  {
   "cell_type": "code",
   "execution_count": 13,
   "metadata": {},
   "outputs": [],
   "source": [
    "data_test = pd.read_csv('test_30_sec.csv')\n",
    "dataset_test= data_test.drop(['filename','length'],axis=1)\n",
    "X__test=scaler2.transform(np.array(dataset_test.iloc[:, :-15], dtype = float))\n",
    "actual = encode.transform(dataset_test.iloc[:,-1])\n",
    "pred = model.predict_classes(X__test)"
   ]
  },
  {
   "cell_type": "code",
   "execution_count": 14,
   "metadata": {},
   "outputs": [
    {
     "name": "stdout",
     "output_type": "stream",
     "text": [
      "[3 2 4 1 1 0 3 4 4 1 4 4 4 0 4 0 0 2 2 1 3 0 2 3 2 2 4 4 1]\n",
      "[4 4 4 1 1 0 4 4 4 1 4 2 4 4 4 0 0 2 2 1 4 2 2 3 2 2 4 4 2]\n"
     ]
    }
   ],
   "source": [
    "# blues[0],classical[1],jazz[2],metal[3],pop[4]\n",
    "print(actual)\n",
    "print(pred)"
   ]
  },
  {
   "cell_type": "code",
   "execution_count": 15,
   "metadata": {},
   "outputs": [
    {
     "data": {
      "text/plain": [
       "<matplotlib.axes._subplots.AxesSubplot at 0x276d3efb240>"
      ]
     },
     "execution_count": 15,
     "metadata": {},
     "output_type": "execute_result"
    },
    {
     "data": {
      "image/png": "[encoded data removed]",
      "text/plain": [
       "<Figure size 432x288 with 2 Axes>"
      ]
     },
     "metadata": {
      "needs_background": "light"
     },
     "output_type": "display_data"
    }
   ],
   "source": [
    "cf_matrix_test = confusion_matrix(actual,pred)\n",
    "classes=['blues', 'classical','jazz', 'metal', 'pop']\n",
    "sns.heatmap(cf_matrix_test, annot=True , cmap='Blues',xticklabels=classes,yticklabels=classes)"
   ]
  },
  {
   "cell_type": "code",
   "execution_count": 16,
   "metadata": {},
   "outputs": [
    {
     "data": {
      "text/plain": [
       "array([[ 81,   0,   0,   3,   0],\n",
       "       [  0,  90,   2,   0,   0],\n",
       "       [  5,   4,  66,   0,   0],\n",
       "       [  4,   0,   0, 101,   0],\n",
       "       [  0,   1,   1,   0,  92]], dtype=int64)"
      ]
     },
     "execution_count": 16,
     "metadata": {},
     "output_type": "execute_result"
    }
   ],
   "source": [
    "cf_matrix"
   ]
  },
  {
   "cell_type": "code",
   "execution_count": 17,
   "metadata": {},
   "outputs": [
    {
     "name": "stdout",
     "output_type": "stream",
     "text": [
      "[3 4 4 4 2 2 3 3 1 0 2 3 4 4 0 0 2 3 1 0 1 1 0 4 1 1 4 4 4 2 0 1 2 4 3 2 1\n",
      " 1 1 0 1 2 3 4 4 1 3 1 1 4 3 3 1 3 1 2 0 4 0 4 3 3 4 0 2 1 1 4 4 4 3 3 2 1\n",
      " 3 1 1 2 2 1 3 0 0 2 0 0 3 4 2 2 3 1 3 3 3 3 1 0 1 3 0 2 2 2 4 0 0 0 0 2 1\n",
      " 4 2 1 0 1 2 4 0 3 2 1 2 2 0 3 2 2 2 0 0 0 1 3 1 0 3 1 3 0 1 0 4 3 0 1 2 4\n",
      " 2 4 3 3 1 1 2 4 1 2 0 1 3 0 1 0 0 1 4 2 1 2 3 1 3 0 2 1 3 1 2 0 3 4 0 2 2\n",
      " 3 4 1 1 0 4 4 4 4 0 4 0 0 3 3 3 1 4 3 3 0 3 1 1 0 2 3 3 3 4 1 3 4 0 0 4 3\n",
      " 3 0 4 0 0 4 4 1 1 3 1 3 2 4 4 4 2 2 2 3 0 2 2 3 4 3 3 3 2 2 3 1 4 3 3 3 3\n",
      " 3 0 4 3 4 3 1 0 1 3 4 0 1 2 3 2 2 4 3 3 2 4 2 4 0 3 0 4 0 4 2 4 0 4 4 3 1\n",
      " 4 3 4 1 3 4 3 1 3 4 4 3 2 1 1 1 4 4 3 2 2 0 3 4 4 3 4 1 4 0 4 0 0 4 1 3 1\n",
      " 1 3 0 0 1 1 0 1 2 3 3 4 0 3 2 4 0 2 0 3 3 2 1 3 1 0 1 3 1 2 4 3 0 2 0 0 4\n",
      " 4 1 4 2 4 4 2 0 1 4 2 2 4 1 3 3 1 1 3 1 1 1 2 0 3 1 4 2 4 4 4 1 4 1 1 0 2\n",
      " 3 1 3 0 2 3 0 4 2 4 0 2 0 1 3 3 3 1 0 4 4 0 1 0 3 3 3 1 0 2 2 3 0 3 0 4 3\n",
      " 2 4 4 1 4 0]\n",
      "[3 4 4 4 2 2 3 3 1 0 2 3 4 4 0 0 2 3 1 0 1 1 0 4 1 1 4 4 4 2 0 1 2 4 3 2 1\n",
      " 1 1 0 1 2 3 4 4 1 3 1 1 4 3 3 1 3 1 2 0 4 0 4 3 3 4 0 2 1 1 4 4 4 3 3 0 1\n",
      " 3 1 1 1 2 2 3 0 3 2 3 0 3 4 2 0 3 1 3 3 3 0 1 0 1 3 0 2 2 2 4 0 0 0 0 1 1\n",
      " 4 2 1 0 1 2 2 0 3 2 1 2 0 0 3 2 2 2 0 0 0 1 3 1 0 3 1 0 0 1 0 4 3 0 1 2 4\n",
      " 2 4 3 3 1 1 2 4 1 2 0 1 3 0 1 0 0 2 4 2 1 2 3 1 3 0 2 1 3 1 2 0 3 4 0 2 2\n",
      " 3 4 1 1 0 4 4 4 4 0 4 0 0 3 3 3 1 4 3 3 0 3 1 1 0 2 3 3 3 4 1 3 4 0 0 4 3\n",
      " 3 0 4 0 0 4 4 1 1 3 1 3 2 4 4 4 2 2 2 3 0 2 2 3 4 3 3 3 2 2 3 1 4 3 3 3 3\n",
      " 3 0 4 3 4 3 1 0 1 3 4 0 1 2 3 0 2 4 3 3 2 4 2 4 0 3 0 4 0 4 2 4 0 4 4 3 1\n",
      " 4 3 4 1 3 4 3 1 3 4 4 3 0 1 1 1 4 4 3 2 2 0 3 4 4 3 4 1 4 0 4 0 0 4 1 3 1\n",
      " 1 3 0 0 1 1 0 1 2 0 3 4 0 3 2 4 0 2 0 3 3 2 1 3 1 0 1 3 1 2 4 3 0 2 0 0 4\n",
      " 4 1 4 2 4 4 2 0 1 4 2 1 4 1 0 3 1 1 3 1 1 1 1 3 3 1 4 2 4 4 4 1 4 1 1 0 2\n",
      " 3 1 3 0 2 3 0 4 2 4 0 2 0 1 3 3 3 1 0 1 4 0 1 0 3 3 3 1 0 2 2 3 0 3 0 4 3\n",
      " 2 4 4 1 4 0]\n"
     ]
    }
   ],
   "source": [
    "print(y_test)\n",
    "print(predictions)"
   ]
  },
  {
   "cell_type": "code",
   "execution_count": null,
   "metadata": {},
   "outputs": [],
   "source": []
  }
 ],
 "metadata": {
  "kernelspec": {
   "display_name": "Python 3",
   "language": "python",
   "name": "python3"
  },
  "language_info": {
   "codemirror_mode": {
    "name": "ipython",
    "version": 3
   },
   "file_extension": ".py",
   "mimetype": "text/x-python",
   "name": "python",
   "nbconvert_exporter": "python",
   "pygments_lexer": "ipython3",
   "version": "3.7.3"
  }
 },
 "nbformat": 4,
 "nbformat_minor": 2
}
